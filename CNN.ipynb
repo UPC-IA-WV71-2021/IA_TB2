{
 "cells": [
  {
   "cell_type": "markdown",
   "metadata": {
    "id": "tYKyjTU6zokw"
   },
   "source": [
    "# Importing libraries\n",
    "\n"
   ]
  },
  {
   "cell_type": "code",
   "execution_count": 1,
   "metadata": {
    "id": "HemkuYmMjjQE"
   },
   "outputs": [],
   "source": [
    "import tensorflow as tf\n",
    "from tensorflow.keras.models import Sequential\n",
    "from tensorflow.keras.layers import Dense\n",
    "from tensorflow.keras.layers import Dropout\n",
    "from tensorflow.keras import regularizers\n",
    "from tensorflow.keras.callbacks import TensorBoard\n",
    "import os\n",
    "import tempfile\n",
    "import time\n",
    "import matplotlib as mpl\n",
    "import matplotlib.pyplot as plt\n",
    "import numpy as np\n",
    "import pandas as pd\n",
    "import seaborn as sns\n",
    "\n",
    "import sklearn\n",
    "from sklearn import preprocessing\n",
    "from sklearn.metrics import confusion_matrix\n",
    "from sklearn.model_selection import train_test_split\n",
    "from sklearn.preprocessing import StandardScaler\n",
    "\n",
    "NAME = \"Deliquents-vs-LawOfficers-{}\".format(int(time.time()))\n",
    "tensorboard = TensorBoard(log_dir='logs/CNN model/{}'.format(NAME))\n",
    "tensorboardOf = TensorBoard(log_dir='logs/CNN with Over-fitting and Regularization model/{}'.format(NAME))\n",
    "tensorboardRr = TensorBoard(log_dir='logs/CNN with Ridge Regression Regularization model/{}'.format(NAME))"
   ]
  },
  {
   "cell_type": "markdown",
   "metadata": {
    "id": "8UnaRku3zvUz"
   },
   "source": [
    "### Importing and showing the deployed dataset"
   ]
  },
  {
   "cell_type": "code",
   "execution_count": 2,
   "metadata": {
    "colab": {
     "base_uri": "https://localhost:8080/",
     "height": 204
    },
    "id": "CQsaXTzACy3S",
    "outputId": "161fa9eb-91b2-4a5f-b141-b9a5d96814e8"
   },
   "outputs": [
    {
     "data": {
      "text/html": [
       "<div>\n",
       "<style scoped>\n",
       "    .dataframe tbody tr th:only-of-type {\n",
       "        vertical-align: middle;\n",
       "    }\n",
       "\n",
       "    .dataframe tbody tr th {\n",
       "        vertical-align: top;\n",
       "    }\n",
       "\n",
       "    .dataframe thead th {\n",
       "        text-align: right;\n",
       "    }\n",
       "</style>\n",
       "<table border=\"1\" class=\"dataframe\">\n",
       "  <thead>\n",
       "    <tr style=\"text-align: right;\">\n",
       "      <th></th>\n",
       "      <th>Person_type</th>\n",
       "      <th>Colour</th>\n",
       "      <th>Height</th>\n",
       "      <th>Age</th>\n",
       "      <th>Gender</th>\n",
       "      <th>Head</th>\n",
       "      <th>Torso</th>\n",
       "      <th>Legs</th>\n",
       "      <th>Feet</th>\n",
       "      <th>Accessories</th>\n",
       "      <th>Blood</th>\n",
       "      <th>Armed</th>\n",
       "      <th>Banners</th>\n",
       "      <th>Type</th>\n",
       "      <th>x_min</th>\n",
       "      <th>y_min</th>\n",
       "      <th>x_max</th>\n",
       "      <th>y_max</th>\n",
       "      <th>Actions</th>\n",
       "    </tr>\n",
       "  </thead>\n",
       "  <tbody>\n",
       "    <tr>\n",
       "      <th>0</th>\n",
       "      <td>Law Officer</td>\n",
       "      <td>Native</td>\n",
       "      <td>1.80</td>\n",
       "      <td>32</td>\n",
       "      <td>M</td>\n",
       "      <td>Cap|face mask</td>\n",
       "      <td>Jacket</td>\n",
       "      <td>N.I</td>\n",
       "      <td>N.I</td>\n",
       "      <td>None</td>\n",
       "      <td>No</td>\n",
       "      <td>Gun</td>\n",
       "      <td>None</td>\n",
       "      <td>Seated</td>\n",
       "      <td>51</td>\n",
       "      <td>6</td>\n",
       "      <td>392</td>\n",
       "      <td>705</td>\n",
       "      <td>5</td>\n",
       "    </tr>\n",
       "    <tr>\n",
       "      <th>1</th>\n",
       "      <td>Delinquent</td>\n",
       "      <td>White</td>\n",
       "      <td>1.73</td>\n",
       "      <td>21</td>\n",
       "      <td>M</td>\n",
       "      <td>None|face mask</td>\n",
       "      <td>T-shirt</td>\n",
       "      <td>N.I</td>\n",
       "      <td>N.I</td>\n",
       "      <td>None</td>\n",
       "      <td>No</td>\n",
       "      <td>No</td>\n",
       "      <td>None</td>\n",
       "      <td>Moving</td>\n",
       "      <td>426</td>\n",
       "      <td>92</td>\n",
       "      <td>623</td>\n",
       "      <td>718</td>\n",
       "      <td>5</td>\n",
       "    </tr>\n",
       "    <tr>\n",
       "      <th>2</th>\n",
       "      <td>Law Officer</td>\n",
       "      <td>Native</td>\n",
       "      <td>1.72</td>\n",
       "      <td>44</td>\n",
       "      <td>M</td>\n",
       "      <td>Cap|face mask</td>\n",
       "      <td>Shirt</td>\n",
       "      <td>N.I</td>\n",
       "      <td>N.I</td>\n",
       "      <td>None</td>\n",
       "      <td>No</td>\n",
       "      <td>Gun</td>\n",
       "      <td>None</td>\n",
       "      <td>Moving</td>\n",
       "      <td>646</td>\n",
       "      <td>129</td>\n",
       "      <td>926</td>\n",
       "      <td>720</td>\n",
       "      <td>5</td>\n",
       "    </tr>\n",
       "    <tr>\n",
       "      <th>3</th>\n",
       "      <td>Law Officer</td>\n",
       "      <td>White</td>\n",
       "      <td>1.73</td>\n",
       "      <td>55</td>\n",
       "      <td>M</td>\n",
       "      <td>Face mask</td>\n",
       "      <td>T-shirt</td>\n",
       "      <td>N.I</td>\n",
       "      <td>N.I</td>\n",
       "      <td>None</td>\n",
       "      <td>No</td>\n",
       "      <td>No</td>\n",
       "      <td>None</td>\n",
       "      <td>Standing</td>\n",
       "      <td>316</td>\n",
       "      <td>83</td>\n",
       "      <td>646</td>\n",
       "      <td>720</td>\n",
       "      <td>5</td>\n",
       "    </tr>\n",
       "    <tr>\n",
       "      <th>4</th>\n",
       "      <td>Viewer</td>\n",
       "      <td>White</td>\n",
       "      <td>1.75</td>\n",
       "      <td>57</td>\n",
       "      <td>M</td>\n",
       "      <td>Face mask</td>\n",
       "      <td>T-shirt</td>\n",
       "      <td>N.I</td>\n",
       "      <td>N.I</td>\n",
       "      <td>None</td>\n",
       "      <td>No</td>\n",
       "      <td>No</td>\n",
       "      <td>None</td>\n",
       "      <td>Standing</td>\n",
       "      <td>699</td>\n",
       "      <td>69</td>\n",
       "      <td>1095</td>\n",
       "      <td>720</td>\n",
       "      <td>5</td>\n",
       "    </tr>\n",
       "  </tbody>\n",
       "</table>\n",
       "</div>"
      ],
      "text/plain": [
       "   Person_type  Colour Height Age Gender            Head    Torso Legs Feet  \\\n",
       "0  Law Officer  Native   1.80  32      M   Cap|face mask   Jacket  N.I  N.I   \n",
       "1  Delinquent    White   1.73  21      M  None|face mask  T-shirt  N.I  N.I   \n",
       "2  Law Officer  Native   1.72  44      M   Cap|face mask    Shirt  N.I  N.I   \n",
       "3  Law Officer   White   1.73  55      M       Face mask  T-shirt  N.I  N.I   \n",
       "4       Viewer   White   1.75  57      M       Face mask  T-shirt  N.I  N.I   \n",
       "\n",
       "  Accessories Blood Armed Banners      Type  x_min  y_min  x_max  y_max  \\\n",
       "0        None    No   Gun    None    Seated     51      6    392    705   \n",
       "1        None    No    No    None    Moving    426     92    623    718   \n",
       "2        None    No   Gun    None    Moving    646    129    926    720   \n",
       "3        None    No    No    None  Standing    316     83    646    720   \n",
       "4        None    No    No    None  Standing    699     69   1095    720   \n",
       "\n",
       "   Actions  \n",
       "0        5  \n",
       "1        5  \n",
       "2        5  \n",
       "3        5  \n",
       "4        5  "
      ]
     },
     "execution_count": 2,
     "metadata": {},
     "output_type": "execute_result"
    }
   ],
   "source": [
    "df = pd.read_csv(\"https://raw.githubusercontent.com/Rodrigo190119/TDP-Surveillance_Prediction_Model/main/Dataset.csv\")\n",
    "df.head()"
   ]
  },
  {
   "cell_type": "markdown",
   "metadata": {
    "id": "lqKWmpoi-7ri"
   },
   "source": [
    "### Preparing the Dataset"
   ]
  },
  {
   "cell_type": "markdown",
   "metadata": {
    "id": "UHBfRP42z2dw"
   },
   "source": [
    "In this section, we must choose the columns that will be used to train the predictive model and get rid of the ones that are not. In this case, we will use the columns of information collected manually such as \"Person_type\", \"Armed\" and \"Actions\""
   ]
  },
  {
   "cell_type": "code",
   "execution_count": 3,
   "metadata": {
    "colab": {
     "base_uri": "https://localhost:8080/",
     "height": 204
    },
    "id": "zZ2cxurcDCBb",
    "outputId": "354a229a-df83-4ff1-c542-3b622b9032d9"
   },
   "outputs": [
    {
     "data": {
      "text/html": [
       "<div>\n",
       "<style scoped>\n",
       "    .dataframe tbody tr th:only-of-type {\n",
       "        vertical-align: middle;\n",
       "    }\n",
       "\n",
       "    .dataframe tbody tr th {\n",
       "        vertical-align: top;\n",
       "    }\n",
       "\n",
       "    .dataframe thead th {\n",
       "        text-align: right;\n",
       "    }\n",
       "</style>\n",
       "<table border=\"1\" class=\"dataframe\">\n",
       "  <thead>\n",
       "    <tr style=\"text-align: right;\">\n",
       "      <th></th>\n",
       "      <th>Person_type</th>\n",
       "      <th>Armed</th>\n",
       "      <th>Actions</th>\n",
       "    </tr>\n",
       "  </thead>\n",
       "  <tbody>\n",
       "    <tr>\n",
       "      <th>0</th>\n",
       "      <td>Law Officer</td>\n",
       "      <td>Gun</td>\n",
       "      <td>5</td>\n",
       "    </tr>\n",
       "    <tr>\n",
       "      <th>1</th>\n",
       "      <td>Delinquent</td>\n",
       "      <td>No</td>\n",
       "      <td>5</td>\n",
       "    </tr>\n",
       "    <tr>\n",
       "      <th>2</th>\n",
       "      <td>Law Officer</td>\n",
       "      <td>Gun</td>\n",
       "      <td>5</td>\n",
       "    </tr>\n",
       "    <tr>\n",
       "      <th>3</th>\n",
       "      <td>Law Officer</td>\n",
       "      <td>No</td>\n",
       "      <td>5</td>\n",
       "    </tr>\n",
       "    <tr>\n",
       "      <th>4</th>\n",
       "      <td>Viewer</td>\n",
       "      <td>No</td>\n",
       "      <td>5</td>\n",
       "    </tr>\n",
       "  </tbody>\n",
       "</table>\n",
       "</div>"
      ],
      "text/plain": [
       "   Person_type Armed  Actions\n",
       "0  Law Officer   Gun        5\n",
       "1  Delinquent     No        5\n",
       "2  Law Officer   Gun        5\n",
       "3  Law Officer    No        5\n",
       "4       Viewer    No        5"
      ]
     },
     "execution_count": 3,
     "metadata": {},
     "output_type": "execute_result"
    }
   ],
   "source": [
    "cols_to_drop = ['Colour', 'Height', 'Age', 'Gender', 'Head', 'Torso', 'Legs', 'Feet', 'Accessories', 'Blood', 'Banners', 'Type', 'x_min', 'y_min', 'x_max', 'y_max']\n",
    "df = df.drop(cols_to_drop, axis = 1)\n",
    "df.head()"
   ]
  },
  {
   "cell_type": "markdown",
   "metadata": {
    "id": "Ci-0y1zN01y1"
   },
   "source": [
    "Next, data used in the predictive model needs to be numerical. We can see that the columns \"Person_type\" and \"Armed\" contain classified values. "
   ]
  },
  {
   "cell_type": "code",
   "execution_count": 4,
   "metadata": {
    "colab": {
     "base_uri": "https://localhost:8080/"
    },
    "id": "hPjV-SgJGBf1",
    "outputId": "c3a5a62a-b25e-4bc7-8cd7-365300527905"
   },
   "outputs": [
    {
     "name": "stdout",
     "output_type": "stream",
     "text": [
      "<class 'pandas.core.frame.DataFrame'>\n",
      "RangeIndex: 1610 entries, 0 to 1609\n",
      "Data columns (total 3 columns):\n",
      " #   Column       Non-Null Count  Dtype \n",
      "---  ------       --------------  ----- \n",
      " 0   Person_type  1610 non-null   object\n",
      " 1   Armed        1610 non-null   object\n",
      " 2   Actions      1610 non-null   int64 \n",
      "dtypes: int64(1), object(2)\n",
      "memory usage: 37.9+ KB\n"
     ]
    }
   ],
   "source": [
    "df.info()"
   ]
  },
  {
   "cell_type": "markdown",
   "metadata": {
    "id": "_F9P-Gc41Vj6"
   },
   "source": [
    "To adapt the data to the model we need, each column value is added as new columns and binary values are assigned to them. "
   ]
  },
  {
   "cell_type": "code",
   "execution_count": 5,
   "metadata": {
    "colab": {
     "base_uri": "https://localhost:8080/",
     "height": 204
    },
    "id": "ykJXiEqkFVy8",
    "outputId": "db743c7d-6c87-4326-98e7-049b0295b74e"
   },
   "outputs": [
    {
     "data": {
      "text/html": [
       "<div>\n",
       "<style scoped>\n",
       "    .dataframe tbody tr th:only-of-type {\n",
       "        vertical-align: middle;\n",
       "    }\n",
       "\n",
       "    .dataframe tbody tr th {\n",
       "        vertical-align: top;\n",
       "    }\n",
       "\n",
       "    .dataframe thead th {\n",
       "        text-align: right;\n",
       "    }\n",
       "</style>\n",
       "<table border=\"1\" class=\"dataframe\">\n",
       "  <thead>\n",
       "    <tr style=\"text-align: right;\">\n",
       "      <th></th>\n",
       "      <th>Person_type</th>\n",
       "      <th>Armed</th>\n",
       "      <th>Actions</th>\n",
       "      <th>Aggressor</th>\n",
       "      <th>Delinquent</th>\n",
       "      <th>Law Officer</th>\n",
       "      <th>Victim</th>\n",
       "      <th>Viewer</th>\n",
       "      <th>Gun</th>\n",
       "      <th>Knife</th>\n",
       "      <th>No</th>\n",
       "      <th>Other</th>\n",
       "    </tr>\n",
       "  </thead>\n",
       "  <tbody>\n",
       "    <tr>\n",
       "      <th>0</th>\n",
       "      <td>Law Officer</td>\n",
       "      <td>Gun</td>\n",
       "      <td>5</td>\n",
       "      <td>0</td>\n",
       "      <td>0</td>\n",
       "      <td>1</td>\n",
       "      <td>0</td>\n",
       "      <td>0</td>\n",
       "      <td>1</td>\n",
       "      <td>0</td>\n",
       "      <td>0</td>\n",
       "      <td>0</td>\n",
       "    </tr>\n",
       "    <tr>\n",
       "      <th>1</th>\n",
       "      <td>Delinquent</td>\n",
       "      <td>No</td>\n",
       "      <td>5</td>\n",
       "      <td>0</td>\n",
       "      <td>1</td>\n",
       "      <td>0</td>\n",
       "      <td>0</td>\n",
       "      <td>0</td>\n",
       "      <td>0</td>\n",
       "      <td>0</td>\n",
       "      <td>1</td>\n",
       "      <td>0</td>\n",
       "    </tr>\n",
       "    <tr>\n",
       "      <th>2</th>\n",
       "      <td>Law Officer</td>\n",
       "      <td>Gun</td>\n",
       "      <td>5</td>\n",
       "      <td>0</td>\n",
       "      <td>0</td>\n",
       "      <td>1</td>\n",
       "      <td>0</td>\n",
       "      <td>0</td>\n",
       "      <td>1</td>\n",
       "      <td>0</td>\n",
       "      <td>0</td>\n",
       "      <td>0</td>\n",
       "    </tr>\n",
       "    <tr>\n",
       "      <th>3</th>\n",
       "      <td>Law Officer</td>\n",
       "      <td>No</td>\n",
       "      <td>5</td>\n",
       "      <td>0</td>\n",
       "      <td>0</td>\n",
       "      <td>1</td>\n",
       "      <td>0</td>\n",
       "      <td>0</td>\n",
       "      <td>0</td>\n",
       "      <td>0</td>\n",
       "      <td>1</td>\n",
       "      <td>0</td>\n",
       "    </tr>\n",
       "    <tr>\n",
       "      <th>4</th>\n",
       "      <td>Viewer</td>\n",
       "      <td>No</td>\n",
       "      <td>5</td>\n",
       "      <td>0</td>\n",
       "      <td>0</td>\n",
       "      <td>0</td>\n",
       "      <td>0</td>\n",
       "      <td>1</td>\n",
       "      <td>0</td>\n",
       "      <td>0</td>\n",
       "      <td>1</td>\n",
       "      <td>0</td>\n",
       "    </tr>\n",
       "  </tbody>\n",
       "</table>\n",
       "</div>"
      ],
      "text/plain": [
       "   Person_type Armed  Actions  Aggressor  Delinquent   Law Officer  Victim  \\\n",
       "0  Law Officer   Gun        5          0            0            1       0   \n",
       "1  Delinquent     No        5          0            1            0       0   \n",
       "2  Law Officer   Gun        5          0            0            1       0   \n",
       "3  Law Officer    No        5          0            0            1       0   \n",
       "4       Viewer    No        5          0            0            0       0   \n",
       "\n",
       "   Viewer  Gun  Knife  No  Other  \n",
       "0       0    1      0   0      0  \n",
       "1       0    0      0   1      0  \n",
       "2       0    1      0   0      0  \n",
       "3       0    0      0   1      0  \n",
       "4       1    0      0   1      0  "
      ]
     },
     "execution_count": 5,
     "metadata": {},
     "output_type": "execute_result"
    }
   ],
   "source": [
    "Person_TypeColumnDummy = pd.get_dummies(df['Person_type'])\n",
    "Armed_TypeColumnDummy = pd.get_dummies(df['Armed'])\n",
    "df = pd.concat((df, Person_TypeColumnDummy, Armed_TypeColumnDummy), axis=1)\n",
    "df.head()"
   ]
  },
  {
   "cell_type": "markdown",
   "metadata": {
    "id": "OjX4yptA15M9"
   },
   "source": [
    "Then, original columns are removed."
   ]
  },
  {
   "cell_type": "code",
   "execution_count": 6,
   "metadata": {
    "colab": {
     "base_uri": "https://localhost:8080/",
     "height": 204
    },
    "id": "tbPFkpj1Fw2f",
    "outputId": "511d7fa7-4317-4de6-957b-02cb2dfd9c12"
   },
   "outputs": [
    {
     "data": {
      "text/html": [
       "<div>\n",
       "<style scoped>\n",
       "    .dataframe tbody tr th:only-of-type {\n",
       "        vertical-align: middle;\n",
       "    }\n",
       "\n",
       "    .dataframe tbody tr th {\n",
       "        vertical-align: top;\n",
       "    }\n",
       "\n",
       "    .dataframe thead th {\n",
       "        text-align: right;\n",
       "    }\n",
       "</style>\n",
       "<table border=\"1\" class=\"dataframe\">\n",
       "  <thead>\n",
       "    <tr style=\"text-align: right;\">\n",
       "      <th></th>\n",
       "      <th>Actions</th>\n",
       "      <th>Aggressor</th>\n",
       "      <th>Delinquent</th>\n",
       "      <th>Law Officer</th>\n",
       "      <th>Victim</th>\n",
       "      <th>Viewer</th>\n",
       "      <th>Gun</th>\n",
       "      <th>Knife</th>\n",
       "      <th>No</th>\n",
       "      <th>Other</th>\n",
       "    </tr>\n",
       "  </thead>\n",
       "  <tbody>\n",
       "    <tr>\n",
       "      <th>0</th>\n",
       "      <td>5</td>\n",
       "      <td>0</td>\n",
       "      <td>0</td>\n",
       "      <td>1</td>\n",
       "      <td>0</td>\n",
       "      <td>0</td>\n",
       "      <td>1</td>\n",
       "      <td>0</td>\n",
       "      <td>0</td>\n",
       "      <td>0</td>\n",
       "    </tr>\n",
       "    <tr>\n",
       "      <th>1</th>\n",
       "      <td>5</td>\n",
       "      <td>0</td>\n",
       "      <td>1</td>\n",
       "      <td>0</td>\n",
       "      <td>0</td>\n",
       "      <td>0</td>\n",
       "      <td>0</td>\n",
       "      <td>0</td>\n",
       "      <td>1</td>\n",
       "      <td>0</td>\n",
       "    </tr>\n",
       "    <tr>\n",
       "      <th>2</th>\n",
       "      <td>5</td>\n",
       "      <td>0</td>\n",
       "      <td>0</td>\n",
       "      <td>1</td>\n",
       "      <td>0</td>\n",
       "      <td>0</td>\n",
       "      <td>1</td>\n",
       "      <td>0</td>\n",
       "      <td>0</td>\n",
       "      <td>0</td>\n",
       "    </tr>\n",
       "    <tr>\n",
       "      <th>3</th>\n",
       "      <td>5</td>\n",
       "      <td>0</td>\n",
       "      <td>0</td>\n",
       "      <td>1</td>\n",
       "      <td>0</td>\n",
       "      <td>0</td>\n",
       "      <td>0</td>\n",
       "      <td>0</td>\n",
       "      <td>1</td>\n",
       "      <td>0</td>\n",
       "    </tr>\n",
       "    <tr>\n",
       "      <th>4</th>\n",
       "      <td>5</td>\n",
       "      <td>0</td>\n",
       "      <td>0</td>\n",
       "      <td>0</td>\n",
       "      <td>0</td>\n",
       "      <td>1</td>\n",
       "      <td>0</td>\n",
       "      <td>0</td>\n",
       "      <td>1</td>\n",
       "      <td>0</td>\n",
       "    </tr>\n",
       "  </tbody>\n",
       "</table>\n",
       "</div>"
      ],
      "text/plain": [
       "   Actions  Aggressor  Delinquent   Law Officer  Victim  Viewer  Gun  Knife  \\\n",
       "0        5          0            0            1       0       0    1      0   \n",
       "1        5          0            1            0       0       0    0      0   \n",
       "2        5          0            0            1       0       0    1      0   \n",
       "3        5          0            0            1       0       0    0      0   \n",
       "4        5          0            0            0       0       1    0      0   \n",
       "\n",
       "   No  Other  \n",
       "0   0      0  \n",
       "1   1      0  \n",
       "2   0      0  \n",
       "3   1      0  \n",
       "4   1      0  "
      ]
     },
     "execution_count": 6,
     "metadata": {},
     "output_type": "execute_result"
    }
   ],
   "source": [
    "df = df.drop(['Person_type', 'Armed'], axis=1)\n",
    "df.head()"
   ]
  },
  {
   "cell_type": "markdown",
   "metadata": {
    "id": "VkbvYAc42Jyc"
   },
   "source": [
    "The training exercise consists of predicting if a person is considered as delinquent analizing their actions and if they possess a weapon. To quickly assign the columns to be used for training, the columns referring to the type of person should be placed at the end. "
   ]
  },
  {
   "cell_type": "code",
   "execution_count": 7,
   "metadata": {
    "colab": {
     "base_uri": "https://localhost:8080/",
     "height": 204
    },
    "id": "nsj3AxY5T5xu",
    "outputId": "b6e51c76-b80e-4c07-9725-192a3468621a"
   },
   "outputs": [
    {
     "data": {
      "text/html": [
       "<div>\n",
       "<style scoped>\n",
       "    .dataframe tbody tr th:only-of-type {\n",
       "        vertical-align: middle;\n",
       "    }\n",
       "\n",
       "    .dataframe tbody tr th {\n",
       "        vertical-align: top;\n",
       "    }\n",
       "\n",
       "    .dataframe thead th {\n",
       "        text-align: right;\n",
       "    }\n",
       "</style>\n",
       "<table border=\"1\" class=\"dataframe\">\n",
       "  <thead>\n",
       "    <tr style=\"text-align: right;\">\n",
       "      <th></th>\n",
       "      <th>Actions</th>\n",
       "      <th>Other</th>\n",
       "      <th>No</th>\n",
       "      <th>Knife</th>\n",
       "      <th>Gun</th>\n",
       "      <th>Aggressor</th>\n",
       "      <th>Delinquent</th>\n",
       "      <th>Law Officer</th>\n",
       "      <th>Victim</th>\n",
       "      <th>Viewer</th>\n",
       "    </tr>\n",
       "  </thead>\n",
       "  <tbody>\n",
       "    <tr>\n",
       "      <th>0</th>\n",
       "      <td>5</td>\n",
       "      <td>0</td>\n",
       "      <td>0</td>\n",
       "      <td>0</td>\n",
       "      <td>1</td>\n",
       "      <td>0</td>\n",
       "      <td>0</td>\n",
       "      <td>1</td>\n",
       "      <td>0</td>\n",
       "      <td>0</td>\n",
       "    </tr>\n",
       "    <tr>\n",
       "      <th>1</th>\n",
       "      <td>5</td>\n",
       "      <td>0</td>\n",
       "      <td>1</td>\n",
       "      <td>0</td>\n",
       "      <td>0</td>\n",
       "      <td>0</td>\n",
       "      <td>1</td>\n",
       "      <td>0</td>\n",
       "      <td>0</td>\n",
       "      <td>0</td>\n",
       "    </tr>\n",
       "    <tr>\n",
       "      <th>2</th>\n",
       "      <td>5</td>\n",
       "      <td>0</td>\n",
       "      <td>0</td>\n",
       "      <td>0</td>\n",
       "      <td>1</td>\n",
       "      <td>0</td>\n",
       "      <td>0</td>\n",
       "      <td>1</td>\n",
       "      <td>0</td>\n",
       "      <td>0</td>\n",
       "    </tr>\n",
       "    <tr>\n",
       "      <th>3</th>\n",
       "      <td>5</td>\n",
       "      <td>0</td>\n",
       "      <td>1</td>\n",
       "      <td>0</td>\n",
       "      <td>0</td>\n",
       "      <td>0</td>\n",
       "      <td>0</td>\n",
       "      <td>1</td>\n",
       "      <td>0</td>\n",
       "      <td>0</td>\n",
       "    </tr>\n",
       "    <tr>\n",
       "      <th>4</th>\n",
       "      <td>5</td>\n",
       "      <td>0</td>\n",
       "      <td>1</td>\n",
       "      <td>0</td>\n",
       "      <td>0</td>\n",
       "      <td>0</td>\n",
       "      <td>0</td>\n",
       "      <td>0</td>\n",
       "      <td>0</td>\n",
       "      <td>1</td>\n",
       "    </tr>\n",
       "  </tbody>\n",
       "</table>\n",
       "</div>"
      ],
      "text/plain": [
       "   Actions  Other  No  Knife  Gun  Aggressor  Delinquent   Law Officer  \\\n",
       "0        5      0   0      0    1          0            0            1   \n",
       "1        5      0   1      0    0          0            1            0   \n",
       "2        5      0   0      0    1          0            0            1   \n",
       "3        5      0   1      0    0          0            0            1   \n",
       "4        5      0   1      0    0          0            0            0   \n",
       "\n",
       "   Victim  Viewer  \n",
       "0       0       0  \n",
       "1       0       0  \n",
       "2       0       0  \n",
       "3       0       0  \n",
       "4       0       1  "
      ]
     },
     "execution_count": 7,
     "metadata": {},
     "output_type": "execute_result"
    }
   ],
   "source": [
    "c1 = df.pop('Gun')\n",
    "c2 = df.pop('Knife')\n",
    "c3 = df.pop('No')\n",
    "c4 = df.pop('Other')\n",
    "df.insert(1, 'Gun', c1)\n",
    "df.insert(1, 'Knife', c2)\n",
    "df.insert(1, 'No', c3)\n",
    "df.insert(1, 'Other', c4)\n",
    "df.head()"
   ]
  },
  {
   "cell_type": "markdown",
   "metadata": {
    "id": "dgVOtRr32sjo"
   },
   "source": [
    "We confirm that the data in the dataset has purely numeric values."
   ]
  },
  {
   "cell_type": "code",
   "execution_count": 8,
   "metadata": {
    "colab": {
     "base_uri": "https://localhost:8080/"
    },
    "id": "jlewA5SMXvxc",
    "outputId": "e38e3e83-9609-4b37-a19d-3fdafa944da7"
   },
   "outputs": [
    {
     "name": "stdout",
     "output_type": "stream",
     "text": [
      "<class 'pandas.core.frame.DataFrame'>\n",
      "RangeIndex: 1610 entries, 0 to 1609\n",
      "Data columns (total 10 columns):\n",
      " #   Column       Non-Null Count  Dtype\n",
      "---  ------       --------------  -----\n",
      " 0   Actions      1610 non-null   int64\n",
      " 1   Other        1610 non-null   uint8\n",
      " 2   No           1610 non-null   uint8\n",
      " 3   Knife        1610 non-null   uint8\n",
      " 4   Gun          1610 non-null   uint8\n",
      " 5   Aggressor    1610 non-null   uint8\n",
      " 6   Delinquent   1610 non-null   uint8\n",
      " 7   Law Officer  1610 non-null   uint8\n",
      " 8   Victim       1610 non-null   uint8\n",
      " 9   Viewer       1610 non-null   uint8\n",
      "dtypes: int64(1), uint8(9)\n",
      "memory usage: 26.9 KB\n"
     ]
    }
   ],
   "source": [
    "df.info()"
   ]
  },
  {
   "cell_type": "markdown",
   "metadata": {
    "id": "nAx4B51P3JCC"
   },
   "source": [
    "To analize the dataset this is converted into an array"
   ]
  },
  {
   "cell_type": "code",
   "execution_count": 9,
   "metadata": {
    "id": "P-Yho4aIPPf-"
   },
   "outputs": [],
   "source": [
    "dataset = df.values"
   ]
  },
  {
   "cell_type": "code",
   "execution_count": 10,
   "metadata": {
    "colab": {
     "base_uri": "https://localhost:8080/"
    },
    "id": "5U-H6SGGPYvQ",
    "outputId": "dde0d36c-bc3d-4803-ff59-f518e34dd28c"
   },
   "outputs": [
    {
     "data": {
      "text/plain": [
       "array([[ 5,  0,  0, ...,  1,  0,  0],\n",
       "       [ 5,  0,  1, ...,  0,  0,  0],\n",
       "       [ 5,  0,  0, ...,  1,  0,  0],\n",
       "       ...,\n",
       "       [12,  0,  1, ...,  0,  0,  1],\n",
       "       [12,  0,  1, ...,  0,  0,  1],\n",
       "       [12,  0,  1, ...,  0,  0,  1]], dtype=int64)"
      ]
     },
     "execution_count": 10,
     "metadata": {},
     "output_type": "execute_result"
    }
   ],
   "source": [
    "dataset"
   ]
  },
  {
   "cell_type": "markdown",
   "metadata": {
    "id": "JlWiCKb43V9b"
   },
   "source": [
    "Here we define the metrics of the coordinate axes. Notice that the all rows in the dataset are asigned to \"X\", but we only extract the first 5 columns since those are the columns that are being analized in the future. Then, the column \"Delinquent\" of the excersise is asigned to the Y axis."
   ]
  },
  {
   "cell_type": "code",
   "execution_count": 11,
   "metadata": {
    "id": "fRiWY2eePewi"
   },
   "outputs": [],
   "source": [
    "X = dataset[: ,0:5]\n",
    "Y = dataset[: ,6]"
   ]
  },
  {
   "cell_type": "markdown",
   "metadata": {
    "id": "EN9__2eA6mAh"
   },
   "source": [
    " We scale the data using packages from scikit-learn. The min_max_scaler function scales the dataset so the input features are between 0 and 1."
   ]
  },
  {
   "cell_type": "code",
   "execution_count": 12,
   "metadata": {
    "id": "FIl5_rOkPq1o"
   },
   "outputs": [],
   "source": [
    "min_max_scaler = preprocessing.MinMaxScaler()\n",
    "X_scale = min_max_scaler.fit_transform(X)"
   ]
  },
  {
   "cell_type": "code",
   "execution_count": 13,
   "metadata": {
    "colab": {
     "base_uri": "https://localhost:8080/"
    },
    "id": "WbWI5I37QV4-",
    "outputId": "d376e854-3fa0-484e-a9f8-21ece7074d69"
   },
   "outputs": [
    {
     "data": {
      "text/plain": [
       "array([[0.35714286, 0.        , 0.        , 0.        , 1.        ],\n",
       "       [0.35714286, 0.        , 1.        , 0.        , 0.        ],\n",
       "       [0.35714286, 0.        , 0.        , 0.        , 1.        ],\n",
       "       ...,\n",
       "       [0.85714286, 0.        , 1.        , 0.        , 0.        ],\n",
       "       [0.85714286, 0.        , 1.        , 0.        , 0.        ],\n",
       "       [0.85714286, 0.        , 1.        , 0.        , 0.        ]])"
      ]
     },
     "execution_count": 13,
     "metadata": {},
     "output_type": "execute_result"
    }
   ],
   "source": [
    "X_scale"
   ]
  },
  {
   "cell_type": "markdown",
   "metadata": {
    "id": "i2L3d_Sd8ryr"
   },
   "source": [
    "We split the dataset into a test set, validation set and training set. The size of the validation and test will be 30% of the dataset. Then, we split again the validation set and test set so they have the same size."
   ]
  },
  {
   "cell_type": "markdown",
   "metadata": {
    "id": "fWQj4_9V-f0t"
   },
   "source": [
    "Now, we have six variables that will be used in the dataset:\n",
    "\n",
    "\n",
    "*   X_train (70% of dataset, 5 input features)\n",
    "*   X_val (15% of dataset, 5 input features)\n",
    "*   X_test (15% of dataset, 5 input features)\n",
    "*   Y_train (70% of dataset, 1 label features)\n",
    "*   Y_val (15% of dataset, 1 label features)\n",
    "*   Y_test (15% of dataset, 1 label features)"
   ]
  },
  {
   "cell_type": "code",
   "execution_count": 14,
   "metadata": {
    "id": "4NyZ7JQrQcvK"
   },
   "outputs": [],
   "source": [
    "X_train, X_val_test, Y_train, Y_val_test = train_test_split(X_scale, Y, test_size=0.3)"
   ]
  },
  {
   "cell_type": "code",
   "execution_count": 15,
   "metadata": {
    "id": "5u55XxQEQqkS"
   },
   "outputs": [],
   "source": [
    "X_val, X_test, Y_val, Y_test = train_test_split(X_val_test, Y_val_test, test_size=0.5)"
   ]
  },
  {
   "cell_type": "markdown",
   "metadata": {
    "id": "v9DOsDLh-ieA"
   },
   "source": [
    "This shows the shapes of the arrays (i.e. their dimensions)"
   ]
  },
  {
   "cell_type": "code",
   "execution_count": 16,
   "metadata": {
    "colab": {
     "base_uri": "https://localhost:8080/"
    },
    "id": "OcQPIzn1QtMV",
    "outputId": "882a562a-33e9-478e-f90c-107e15319bb6"
   },
   "outputs": [
    {
     "name": "stdout",
     "output_type": "stream",
     "text": [
      "(1127, 5) (241, 5) (242, 5) (1127,) (241,) (242,)\n"
     ]
    }
   ],
   "source": [
    "print(X_train.shape, X_val.shape, X_test.shape, Y_train.shape, Y_val.shape, Y_test.shape)"
   ]
  },
  {
   "cell_type": "markdown",
   "metadata": {
    "id": "A0-QujCV-0jj"
   },
   "source": [
    "The training set has 1127 data points, the validation set has 241 data points and the test set has 242 data points. This is because the amount of data in the dataset is odd. The X variables have 5 input features, while the Y variables has one feature (the one to predict).\n"
   ]
  },
  {
   "cell_type": "markdown",
   "metadata": {
    "id": "fvChrlxv_uR7"
   },
   "source": [
    "### Building and Training the Neural Network"
   ]
  },
  {
   "cell_type": "markdown",
   "metadata": {
    "id": "r0btpKckFDpp"
   },
   "source": [
    "### CNN"
   ]
  },
  {
   "cell_type": "markdown",
   "metadata": {
    "id": "uauxUirQ_3iy"
   },
   "source": [
    "#### Setting up the Architecture"
   ]
  },
  {
   "cell_type": "code",
   "execution_count": 17,
   "metadata": {
    "id": "vLm9vhXcQ63_"
   },
   "outputs": [],
   "source": [
    "model = Sequential([ #the model will be stored in the variable and it will be described sequentially\n",
    "    Dense(32, activation='relu', input_shape=(5,)), #first dense layer with 32 neurons, RelU activation and 5 inputs\n",
    "    Dense(32, activation='relu'), #second dense layer with 32 neurons and RelU activation\n",
    "    Dense(1, activation='sigmoid'), #third dense layer with 1 neuron and sigmoid activation \n",
    "])"
   ]
  },
  {
   "cell_type": "markdown",
   "metadata": {
    "id": "fVzdSi4wAvRI"
   },
   "source": [
    "#### Choosing algorithm, loss function and metrics"
   ]
  },
  {
   "cell_type": "markdown",
   "metadata": {
    "id": "TBOdu4uxC9UO"
   },
   "source": [
    "We call the function \"model.compile\" to configure the model."
   ]
  },
  {
   "cell_type": "code",
   "execution_count": 18,
   "metadata": {
    "id": "OQOgBhXjQ9sw"
   },
   "outputs": [],
   "source": [
    "model.compile(optimizer='sgd', #using Stochastic Gradient Descent algorithm\n",
    "              loss='binary_crossentropy', #loss function for outputs (takes values 1 or 0)\n",
    "              metrics=['accuracy']) #tracks the accuracy"
   ]
  },
  {
   "cell_type": "markdown",
   "metadata": {
    "id": "P6otZ0acBryQ"
   },
   "source": [
    "The \"fit\" function sets the parameters to the data. We are using the X_train and Y_train data. The size of the batch is 32 and how long we want to train setting the value of \"epochs\". The validation data is specified so the model will tell us how we are doing on the validation at each point. This function returns a history wich we are saving as the variable \"h\"."
   ]
  },
  {
   "cell_type": "code",
   "execution_count": 19,
   "metadata": {
    "colab": {
     "base_uri": "https://localhost:8080/"
    },
    "id": "X8iav7guQ_Vc",
    "outputId": "7e14ad3f-97b1-4c91-df7e-c0992af9f4f4"
   },
   "outputs": [
    {
     "name": "stdout",
     "output_type": "stream",
     "text": [
      "Epoch 1/100\n",
      " 1/36 [..............................] - ETA: 0s - loss: 0.7030 - accuracy: 0.4062WARNING:tensorflow:From C:\\Users\\User\\anaconda3\\lib\\site-packages\\tensorflow\\python\\ops\\summary_ops_v2.py:1277: stop (from tensorflow.python.eager.profiler) is deprecated and will be removed after 2020-07-01.\n",
      "Instructions for updating:\n",
      "use `tf.profiler.experimental.stop` instead.\n",
      "WARNING:tensorflow:Callbacks method `on_train_batch_end` is slow compared to the batch time (batch time: 0.0010s vs `on_train_batch_end` time: 0.0160s). Check your callbacks.\n",
      "36/36 [==============================] - 0s 4ms/step - loss: 0.6482 - accuracy: 0.7640 - val_loss: 0.5939 - val_accuracy: 0.8714\n",
      "Epoch 2/100\n",
      "36/36 [==============================] - 0s 665us/step - loss: 0.5567 - accuracy: 0.8713 - val_loss: 0.5192 - val_accuracy: 0.8714\n",
      "Epoch 3/100\n",
      "36/36 [==============================] - 0s 665us/step - loss: 0.4932 - accuracy: 0.8713 - val_loss: 0.4713 - val_accuracy: 0.8714\n",
      "Epoch 4/100\n",
      "36/36 [==============================] - 0s 637us/step - loss: 0.4528 - accuracy: 0.8713 - val_loss: 0.4374 - val_accuracy: 0.8714\n",
      "Epoch 5/100\n",
      "36/36 [==============================] - 0s 639us/step - loss: 0.4244 - accuracy: 0.8713 - val_loss: 0.4152 - val_accuracy: 0.8714\n",
      "Epoch 6/100\n",
      "36/36 [==============================] - 0s 646us/step - loss: 0.4061 - accuracy: 0.8713 - val_loss: 0.4017 - val_accuracy: 0.8714\n",
      "Epoch 7/100\n",
      "36/36 [==============================] - 0s 665us/step - loss: 0.3949 - accuracy: 0.8713 - val_loss: 0.3935 - val_accuracy: 0.8714\n",
      "Epoch 8/100\n",
      "36/36 [==============================] - 0s 637us/step - loss: 0.3881 - accuracy: 0.8713 - val_loss: 0.3879 - val_accuracy: 0.8714\n",
      "Epoch 9/100\n",
      "36/36 [==============================] - 0s 665us/step - loss: 0.3836 - accuracy: 0.8713 - val_loss: 0.3847 - val_accuracy: 0.8714\n",
      "Epoch 10/100\n",
      "36/36 [==============================] - 0s 637us/step - loss: 0.3809 - accuracy: 0.8713 - val_loss: 0.3825 - val_accuracy: 0.8714\n",
      "Epoch 11/100\n",
      "36/36 [==============================] - 0s 667us/step - loss: 0.3790 - accuracy: 0.8713 - val_loss: 0.3813 - val_accuracy: 0.8714\n",
      "Epoch 12/100\n",
      "36/36 [==============================] - 0s 669us/step - loss: 0.3779 - accuracy: 0.8713 - val_loss: 0.3803 - val_accuracy: 0.8714\n",
      "Epoch 13/100\n",
      "36/36 [==============================] - 0s 665us/step - loss: 0.3771 - accuracy: 0.8713 - val_loss: 0.3797 - val_accuracy: 0.8714\n",
      "Epoch 14/100\n",
      "36/36 [==============================] - 0s 637us/step - loss: 0.3765 - accuracy: 0.8713 - val_loss: 0.3793 - val_accuracy: 0.8714\n",
      "Epoch 15/100\n",
      "36/36 [==============================] - 0s 637us/step - loss: 0.3761 - accuracy: 0.8713 - val_loss: 0.3791 - val_accuracy: 0.8714\n",
      "Epoch 16/100\n",
      "36/36 [==============================] - 0s 665us/step - loss: 0.3758 - accuracy: 0.8713 - val_loss: 0.3789 - val_accuracy: 0.8714\n",
      "Epoch 17/100\n",
      "36/36 [==============================] - 0s 637us/step - loss: 0.3755 - accuracy: 0.8713 - val_loss: 0.3787 - val_accuracy: 0.8714\n",
      "Epoch 18/100\n",
      "36/36 [==============================] - 0s 637us/step - loss: 0.3752 - accuracy: 0.8713 - val_loss: 0.3785 - val_accuracy: 0.8714\n",
      "Epoch 19/100\n",
      "36/36 [==============================] - 0s 642us/step - loss: 0.3751 - accuracy: 0.8713 - val_loss: 0.3784 - val_accuracy: 0.8714\n",
      "Epoch 20/100\n",
      "36/36 [==============================] - 0s 647us/step - loss: 0.3749 - accuracy: 0.8713 - val_loss: 0.3783 - val_accuracy: 0.8714\n",
      "Epoch 21/100\n",
      "36/36 [==============================] - 0s 637us/step - loss: 0.3746 - accuracy: 0.8713 - val_loss: 0.3781 - val_accuracy: 0.8714\n",
      "Epoch 22/100\n",
      "36/36 [==============================] - 0s 637us/step - loss: 0.3744 - accuracy: 0.8713 - val_loss: 0.3780 - val_accuracy: 0.8714\n",
      "Epoch 23/100\n",
      "36/36 [==============================] - 0s 637us/step - loss: 0.3742 - accuracy: 0.8713 - val_loss: 0.3778 - val_accuracy: 0.8714\n",
      "Epoch 24/100\n",
      "36/36 [==============================] - 0s 637us/step - loss: 0.3740 - accuracy: 0.8713 - val_loss: 0.3777 - val_accuracy: 0.8714\n",
      "Epoch 25/100\n",
      "36/36 [==============================] - 0s 637us/step - loss: 0.3738 - accuracy: 0.8713 - val_loss: 0.3776 - val_accuracy: 0.8714\n",
      "Epoch 26/100\n",
      "36/36 [==============================] - 0s 637us/step - loss: 0.3737 - accuracy: 0.8713 - val_loss: 0.3775 - val_accuracy: 0.8714\n",
      "Epoch 27/100\n",
      "36/36 [==============================] - 0s 637us/step - loss: 0.3736 - accuracy: 0.8713 - val_loss: 0.3774 - val_accuracy: 0.8714\n",
      "Epoch 28/100\n",
      "36/36 [==============================] - 0s 649us/step - loss: 0.3734 - accuracy: 0.8713 - val_loss: 0.3773 - val_accuracy: 0.8714\n",
      "Epoch 29/100\n",
      "36/36 [==============================] - 0s 624us/step - loss: 0.3732 - accuracy: 0.8713 - val_loss: 0.3772 - val_accuracy: 0.8714\n",
      "Epoch 30/100\n",
      "36/36 [==============================] - 0s 617us/step - loss: 0.3731 - accuracy: 0.8713 - val_loss: 0.3771 - val_accuracy: 0.8714\n",
      "Epoch 31/100\n",
      "36/36 [==============================] - 0s 637us/step - loss: 0.3729 - accuracy: 0.8713 - val_loss: 0.3770 - val_accuracy: 0.8714\n",
      "Epoch 32/100\n",
      "36/36 [==============================] - 0s 637us/step - loss: 0.3728 - accuracy: 0.8713 - val_loss: 0.3769 - val_accuracy: 0.8714\n",
      "Epoch 33/100\n",
      "36/36 [==============================] - 0s 637us/step - loss: 0.3726 - accuracy: 0.8713 - val_loss: 0.3768 - val_accuracy: 0.8714\n",
      "Epoch 34/100\n",
      "36/36 [==============================] - 0s 651us/step - loss: 0.3725 - accuracy: 0.8713 - val_loss: 0.3767 - val_accuracy: 0.8714\n",
      "Epoch 35/100\n",
      "36/36 [==============================] - 0s 644us/step - loss: 0.3723 - accuracy: 0.8713 - val_loss: 0.3766 - val_accuracy: 0.8714\n",
      "Epoch 36/100\n",
      "36/36 [==============================] - 0s 637us/step - loss: 0.3723 - accuracy: 0.8713 - val_loss: 0.3765 - val_accuracy: 0.8714\n",
      "Epoch 37/100\n",
      "36/36 [==============================] - 0s 665us/step - loss: 0.3721 - accuracy: 0.8713 - val_loss: 0.3765 - val_accuracy: 0.8714\n",
      "Epoch 38/100\n",
      "36/36 [==============================] - 0s 657us/step - loss: 0.3720 - accuracy: 0.8713 - val_loss: 0.3764 - val_accuracy: 0.8714\n",
      "Epoch 39/100\n",
      "36/36 [==============================] - 0s 644us/step - loss: 0.3718 - accuracy: 0.8713 - val_loss: 0.3763 - val_accuracy: 0.8714\n",
      "Epoch 40/100\n",
      "36/36 [==============================] - 0s 637us/step - loss: 0.3717 - accuracy: 0.8713 - val_loss: 0.3762 - val_accuracy: 0.8714\n",
      "Epoch 41/100\n",
      "36/36 [==============================] - 0s 670us/step - loss: 0.3715 - accuracy: 0.8713 - val_loss: 0.3761 - val_accuracy: 0.8714\n",
      "Epoch 42/100\n",
      "36/36 [==============================] - 0s 627us/step - loss: 0.3715 - accuracy: 0.8713 - val_loss: 0.3760 - val_accuracy: 0.8714\n",
      "Epoch 43/100\n",
      "36/36 [==============================] - 0s 637us/step - loss: 0.3713 - accuracy: 0.8713 - val_loss: 0.3760 - val_accuracy: 0.8714\n",
      "Epoch 44/100\n",
      "36/36 [==============================] - 0s 637us/step - loss: 0.3711 - accuracy: 0.8713 - val_loss: 0.3759 - val_accuracy: 0.8714\n",
      "Epoch 45/100\n",
      "36/36 [==============================] - 0s 637us/step - loss: 0.3710 - accuracy: 0.8713 - val_loss: 0.3758 - val_accuracy: 0.8714\n",
      "Epoch 46/100\n",
      "36/36 [==============================] - 0s 672us/step - loss: 0.3710 - accuracy: 0.8713 - val_loss: 0.3757 - val_accuracy: 0.8714\n",
      "Epoch 47/100\n",
      "36/36 [==============================] - 0s 644us/step - loss: 0.3708 - accuracy: 0.8713 - val_loss: 0.3756 - val_accuracy: 0.8714\n",
      "Epoch 48/100\n",
      "36/36 [==============================] - 0s 637us/step - loss: 0.3707 - accuracy: 0.8713 - val_loss: 0.3756 - val_accuracy: 0.8714\n",
      "Epoch 49/100\n",
      "36/36 [==============================] - 0s 637us/step - loss: 0.3705 - accuracy: 0.8713 - val_loss: 0.3754 - val_accuracy: 0.8714\n",
      "Epoch 50/100\n",
      "36/36 [==============================] - 0s 662us/step - loss: 0.3704 - accuracy: 0.8713 - val_loss: 0.3754 - val_accuracy: 0.8714\n",
      "Epoch 51/100\n",
      "36/36 [==============================] - 0s 637us/step - loss: 0.3703 - accuracy: 0.8713 - val_loss: 0.3753 - val_accuracy: 0.8714\n",
      "Epoch 52/100\n",
      "36/36 [==============================] - 0s 665us/step - loss: 0.3702 - accuracy: 0.8713 - val_loss: 0.3753 - val_accuracy: 0.8714\n",
      "Epoch 53/100\n",
      "36/36 [==============================] - 0s 637us/step - loss: 0.3700 - accuracy: 0.8713 - val_loss: 0.3752 - val_accuracy: 0.8714\n",
      "Epoch 54/100\n"
     ]
    },
    {
     "name": "stdout",
     "output_type": "stream",
     "text": [
      "36/36 [==============================] - 0s 656us/step - loss: 0.3700 - accuracy: 0.8713 - val_loss: 0.3751 - val_accuracy: 0.8714\n",
      "Epoch 55/100\n",
      "36/36 [==============================] - 0s 637us/step - loss: 0.3698 - accuracy: 0.8713 - val_loss: 0.3750 - val_accuracy: 0.8714\n",
      "Epoch 56/100\n",
      "36/36 [==============================] - 0s 665us/step - loss: 0.3697 - accuracy: 0.8713 - val_loss: 0.3749 - val_accuracy: 0.8714\n",
      "Epoch 57/100\n",
      "36/36 [==============================] - 0s 669us/step - loss: 0.3696 - accuracy: 0.8713 - val_loss: 0.3749 - val_accuracy: 0.8714\n",
      "Epoch 58/100\n",
      "36/36 [==============================] - 0s 655us/step - loss: 0.3695 - accuracy: 0.8713 - val_loss: 0.3748 - val_accuracy: 0.8714\n",
      "Epoch 59/100\n",
      "36/36 [==============================] - 0s 748us/step - loss: 0.3694 - accuracy: 0.8713 - val_loss: 0.3747 - val_accuracy: 0.8714\n",
      "Epoch 60/100\n",
      "36/36 [==============================] - 0s 665us/step - loss: 0.3692 - accuracy: 0.8713 - val_loss: 0.3747 - val_accuracy: 0.8714\n",
      "Epoch 61/100\n",
      "36/36 [==============================] - 0s 637us/step - loss: 0.3691 - accuracy: 0.8713 - val_loss: 0.3746 - val_accuracy: 0.8714\n",
      "Epoch 62/100\n",
      "36/36 [==============================] - 0s 635us/step - loss: 0.3690 - accuracy: 0.8713 - val_loss: 0.3745 - val_accuracy: 0.8714\n",
      "Epoch 63/100\n",
      "36/36 [==============================] - 0s 637us/step - loss: 0.3689 - accuracy: 0.8713 - val_loss: 0.3744 - val_accuracy: 0.8714\n",
      "Epoch 64/100\n",
      "36/36 [==============================] - 0s 647us/step - loss: 0.3688 - accuracy: 0.8713 - val_loss: 0.3744 - val_accuracy: 0.8714\n",
      "Epoch 65/100\n",
      "36/36 [==============================] - 0s 629us/step - loss: 0.3686 - accuracy: 0.8713 - val_loss: 0.3743 - val_accuracy: 0.8714\n",
      "Epoch 66/100\n",
      "36/36 [==============================] - 0s 631us/step - loss: 0.3685 - accuracy: 0.8713 - val_loss: 0.3742 - val_accuracy: 0.8714\n",
      "Epoch 67/100\n",
      "36/36 [==============================] - 0s 637us/step - loss: 0.3684 - accuracy: 0.8713 - val_loss: 0.3742 - val_accuracy: 0.8714\n",
      "Epoch 68/100\n",
      "36/36 [==============================] - 0s 665us/step - loss: 0.3683 - accuracy: 0.8713 - val_loss: 0.3741 - val_accuracy: 0.8714\n",
      "Epoch 69/100\n",
      "36/36 [==============================] - 0s 641us/step - loss: 0.3682 - accuracy: 0.8713 - val_loss: 0.3740 - val_accuracy: 0.8714\n",
      "Epoch 70/100\n",
      "36/36 [==============================] - 0s 637us/step - loss: 0.3681 - accuracy: 0.8713 - val_loss: 0.3740 - val_accuracy: 0.8714\n",
      "Epoch 71/100\n",
      "36/36 [==============================] - 0s 637us/step - loss: 0.3679 - accuracy: 0.8713 - val_loss: 0.3739 - val_accuracy: 0.8714\n",
      "Epoch 72/100\n",
      "36/36 [==============================] - 0s 637us/step - loss: 0.3679 - accuracy: 0.8713 - val_loss: 0.3738 - val_accuracy: 0.8714\n",
      "Epoch 73/100\n",
      "36/36 [==============================] - 0s 665us/step - loss: 0.3677 - accuracy: 0.8713 - val_loss: 0.3737 - val_accuracy: 0.8714\n",
      "Epoch 74/100\n",
      "36/36 [==============================] - 0s 665us/step - loss: 0.3676 - accuracy: 0.8713 - val_loss: 0.3737 - val_accuracy: 0.8714\n",
      "Epoch 75/100\n",
      "36/36 [==============================] - 0s 639us/step - loss: 0.3675 - accuracy: 0.8713 - val_loss: 0.3736 - val_accuracy: 0.8714\n",
      "Epoch 76/100\n",
      "36/36 [==============================] - 0s 655us/step - loss: 0.3674 - accuracy: 0.8713 - val_loss: 0.3736 - val_accuracy: 0.8714\n",
      "Epoch 77/100\n",
      "36/36 [==============================] - 0s 665us/step - loss: 0.3672 - accuracy: 0.8713 - val_loss: 0.3735 - val_accuracy: 0.8714\n",
      "Epoch 78/100\n",
      "36/36 [==============================] - 0s 665us/step - loss: 0.3671 - accuracy: 0.8713 - val_loss: 0.3734 - val_accuracy: 0.8714\n",
      "Epoch 79/100\n",
      "36/36 [==============================] - 0s 665us/step - loss: 0.3670 - accuracy: 0.8713 - val_loss: 0.3733 - val_accuracy: 0.8714\n",
      "Epoch 80/100\n",
      "36/36 [==============================] - 0s 665us/step - loss: 0.3669 - accuracy: 0.8713 - val_loss: 0.3733 - val_accuracy: 0.8714\n",
      "Epoch 81/100\n",
      "36/36 [==============================] - 0s 637us/step - loss: 0.3668 - accuracy: 0.8713 - val_loss: 0.3732 - val_accuracy: 0.8714\n",
      "Epoch 82/100\n",
      "36/36 [==============================] - 0s 637us/step - loss: 0.3667 - accuracy: 0.8713 - val_loss: 0.3731 - val_accuracy: 0.8714\n",
      "Epoch 83/100\n",
      "36/36 [==============================] - 0s 665us/step - loss: 0.3665 - accuracy: 0.8713 - val_loss: 0.3731 - val_accuracy: 0.8714\n",
      "Epoch 84/100\n",
      "36/36 [==============================] - 0s 665us/step - loss: 0.3665 - accuracy: 0.8713 - val_loss: 0.3730 - val_accuracy: 0.8714\n",
      "Epoch 85/100\n",
      "36/36 [==============================] - 0s 665us/step - loss: 0.3663 - accuracy: 0.8713 - val_loss: 0.3730 - val_accuracy: 0.8714\n",
      "Epoch 86/100\n",
      "36/36 [==============================] - 0s 665us/step - loss: 0.3663 - accuracy: 0.8713 - val_loss: 0.3729 - val_accuracy: 0.8714\n",
      "Epoch 87/100\n",
      "36/36 [==============================] - 0s 693us/step - loss: 0.3661 - accuracy: 0.8713 - val_loss: 0.3728 - val_accuracy: 0.8714\n",
      "Epoch 88/100\n",
      "36/36 [==============================] - 0s 665us/step - loss: 0.3660 - accuracy: 0.8713 - val_loss: 0.3727 - val_accuracy: 0.8714\n",
      "Epoch 89/100\n",
      "36/36 [==============================] - 0s 665us/step - loss: 0.3659 - accuracy: 0.8713 - val_loss: 0.3727 - val_accuracy: 0.8714\n",
      "Epoch 90/100\n",
      "36/36 [==============================] - 0s 665us/step - loss: 0.3658 - accuracy: 0.8713 - val_loss: 0.3726 - val_accuracy: 0.8714\n",
      "Epoch 91/100\n",
      "36/36 [==============================] - 0s 666us/step - loss: 0.3657 - accuracy: 0.8713 - val_loss: 0.3725 - val_accuracy: 0.8714\n",
      "Epoch 92/100\n",
      "36/36 [==============================] - 0s 664us/step - loss: 0.3655 - accuracy: 0.8713 - val_loss: 0.3724 - val_accuracy: 0.8714\n",
      "Epoch 93/100\n",
      "36/36 [==============================] - 0s 637us/step - loss: 0.3655 - accuracy: 0.8713 - val_loss: 0.3723 - val_accuracy: 0.8714\n",
      "Epoch 94/100\n",
      "36/36 [==============================] - 0s 637us/step - loss: 0.3654 - accuracy: 0.8713 - val_loss: 0.3723 - val_accuracy: 0.8714\n",
      "Epoch 95/100\n",
      "36/36 [==============================] - 0s 637us/step - loss: 0.3653 - accuracy: 0.8713 - val_loss: 0.3722 - val_accuracy: 0.8714\n",
      "Epoch 96/100\n",
      "36/36 [==============================] - 0s 665us/step - loss: 0.3652 - accuracy: 0.8713 - val_loss: 0.3721 - val_accuracy: 0.8714\n",
      "Epoch 97/100\n",
      "36/36 [==============================] - 0s 665us/step - loss: 0.3651 - accuracy: 0.8713 - val_loss: 0.3721 - val_accuracy: 0.8714\n",
      "Epoch 98/100\n",
      "36/36 [==============================] - 0s 668us/step - loss: 0.3650 - accuracy: 0.8713 - val_loss: 0.3720 - val_accuracy: 0.8714\n",
      "Epoch 99/100\n",
      "36/36 [==============================] - 0s 665us/step - loss: 0.3650 - accuracy: 0.8713 - val_loss: 0.3721 - val_accuracy: 0.8714\n",
      "Epoch 100/100\n",
      "36/36 [==============================] - 0s 637us/step - loss: 0.3649 - accuracy: 0.8713 - val_loss: 0.3720 - val_accuracy: 0.8714\n"
     ]
    }
   ],
   "source": [
    "h = model.fit(X_train, Y_train,\n",
    "          batch_size=32, epochs=100,  \n",
    "          validation_data=(X_val, Y_val),callbacks=[tensorboard])"
   ]
  },
  {
   "cell_type": "markdown",
   "metadata": {
    "id": "LK3_0Da9EBZs"
   },
   "source": [
    "Visualizing Loss."
   ]
  },
  {
   "cell_type": "code",
   "execution_count": 20,
   "metadata": {
    "colab": {
     "base_uri": "https://localhost:8080/",
     "height": 295
    },
    "id": "O0SO7B_edAgf",
    "outputId": "3c9f7b32-5ddc-4ab2-fea2-1c97767f9eba"
   },
   "outputs": [
    {
     "data": {
      "image/png": "[encoded data removed]",
      "text/plain": [
       "<Figure size 432x288 with 1 Axes>"
      ]
     },
     "metadata": {
      "needs_background": "light"
     },
     "output_type": "display_data"
    }
   ],
   "source": [
    "plt.plot(h.history['loss'])\n",
    "plt.plot(h.history['val_loss'])\n",
    "plt.title('Model loss')\n",
    "plt.ylabel('Loss')\n",
    "plt.xlabel('Epoch')\n",
    "plt.legend(['Train', 'Val'], loc='upper right')\n",
    "plt.show()"
   ]
  },
  {
   "cell_type": "markdown",
   "metadata": {
    "id": "W4F5wif2EKa6"
   },
   "source": [
    "Visualizing Accuracy."
   ]
  },
  {
   "cell_type": "code",
   "execution_count": 21,
   "metadata": {
    "colab": {
     "base_uri": "https://localhost:8080/",
     "height": 295
    },
    "id": "ZpUFVrKHdZ8U",
    "outputId": "4a51be48-0902-43c0-aba6-7daf8fc9f025"
   },
   "outputs": [
    {
     "data": {
      "image/png": "[encoded data removed]",
      "text/plain": [
       "<Figure size 432x288 with 1 Axes>"
      ]
     },
     "metadata": {
      "needs_background": "light"
     },
     "output_type": "display_data"
    }
   ],
   "source": [
    "plt.plot(h.history['accuracy'])\n",
    "plt.plot(h.history['val_accuracy'])\n",
    "plt.title('Model accuracy')\n",
    "plt.ylabel('Accuracy')\n",
    "plt.xlabel('Epoch')\n",
    "plt.legend(['Train', 'Val'], loc='lower right')\n",
    "plt.show()"
   ]
  },
  {
   "cell_type": "markdown",
   "metadata": {
    "id": "BhpEuZzzENF9"
   },
   "source": [
    "Evaluating test."
   ]
  },
  {
   "cell_type": "code",
   "execution_count": 22,
   "metadata": {
    "colab": {
     "base_uri": "https://localhost:8080/"
    },
    "id": "D36e20n6tQlF",
    "outputId": "e1a5e172-26a2-40cc-9551-2f6ef174a963"
   },
   "outputs": [
    {
     "name": "stdout",
     "output_type": "stream",
     "text": [
      "8/8 [==============================] - 0s 374us/step - loss: 0.4231 - accuracy: 0.8388\n"
     ]
    },
    {
     "data": {
      "text/plain": [
       "0.8388429880142212"
      ]
     },
     "execution_count": 22,
     "metadata": {},
     "output_type": "execute_result"
    }
   ],
   "source": [
    "model.evaluate(X_test, Y_test)[1] #index 1 returns accuracy, index 0 returns loss"
   ]
  },
  {
   "cell_type": "markdown",
   "metadata": {
    "id": "ZE6JJ06zEmA2"
   },
   "source": [
    "The accuracy of predicting a delinquent is 88.84%. We can also try different techniques to improve the accuracy using the same variables and input values."
   ]
  },
  {
   "cell_type": "markdown",
   "metadata": {
    "id": "7Jr_y292rXmj"
   },
   "source": [
    "### CNN with Over-fitting and Regularization"
   ]
  },
  {
   "cell_type": "code",
   "execution_count": 23,
   "metadata": {
    "colab": {
     "base_uri": "https://localhost:8080/"
    },
    "id": "d735HO_Wa7Ls",
    "outputId": "66eeb0c7-1a73-4832-fd61-39d34e2ac3f3"
   },
   "outputs": [
    {
     "name": "stdout",
     "output_type": "stream",
     "text": [
      "Epoch 1/100\n",
      " 2/36 [>.............................] - ETA: 4s - loss: 0.6142 - accuracy: 0.8281WARNING:tensorflow:Callbacks method `on_train_batch_end` is slow compared to the batch time (batch time: 0.0100s vs `on_train_batch_end` time: 0.2534s). Check your callbacks.\n",
      "36/36 [==============================] - 1s 20ms/step - loss: 0.3930 - accuracy: 0.8696 - val_loss: 0.3616 - val_accuracy: 0.8714\n",
      "Epoch 2/100\n",
      "36/36 [==============================] - 0s 11ms/step - loss: 0.3684 - accuracy: 0.8722 - val_loss: 0.3464 - val_accuracy: 0.8714\n",
      "Epoch 3/100\n",
      "36/36 [==============================] - 0s 10ms/step - loss: 0.3365 - accuracy: 0.8749 - val_loss: 0.3365 - val_accuracy: 0.8714\n",
      "Epoch 4/100\n",
      "36/36 [==============================] - 0s 12ms/step - loss: 0.3303 - accuracy: 0.8749 - val_loss: 0.3240 - val_accuracy: 0.8714\n",
      "Epoch 5/100\n",
      "36/36 [==============================] - 0s 11ms/step - loss: 0.3311 - accuracy: 0.8749 - val_loss: 0.3173 - val_accuracy: 0.8714\n",
      "Epoch 6/100\n",
      "36/36 [==============================] - 0s 11ms/step - loss: 0.3190 - accuracy: 0.8749 - val_loss: 0.3120 - val_accuracy: 0.8714\n",
      "Epoch 7/100\n",
      "36/36 [==============================] - 0s 11ms/step - loss: 0.3271 - accuracy: 0.8749 - val_loss: 0.3143 - val_accuracy: 0.8714\n",
      "Epoch 8/100\n",
      "36/36 [==============================] - 0s 11ms/step - loss: 0.3315 - accuracy: 0.8749 - val_loss: 0.3190 - val_accuracy: 0.8714\n",
      "Epoch 9/100\n",
      "36/36 [==============================] - 0s 10ms/step - loss: 0.3168 - accuracy: 0.8749 - val_loss: 0.3070 - val_accuracy: 0.8714\n",
      "Epoch 10/100\n",
      "36/36 [==============================] - 0s 10ms/step - loss: 0.3128 - accuracy: 0.8793 - val_loss: 0.3143 - val_accuracy: 0.8714\n",
      "Epoch 11/100\n",
      "36/36 [==============================] - 0s 10ms/step - loss: 0.3109 - accuracy: 0.8846 - val_loss: 0.2886 - val_accuracy: 0.8838\n",
      "Epoch 12/100\n",
      "36/36 [==============================] - 0s 11ms/step - loss: 0.3050 - accuracy: 0.8846 - val_loss: 0.2929 - val_accuracy: 0.8880\n",
      "Epoch 13/100\n",
      "36/36 [==============================] - 0s 11ms/step - loss: 0.3007 - accuracy: 0.8846 - val_loss: 0.2836 - val_accuracy: 0.8838\n",
      "Epoch 14/100\n",
      "36/36 [==============================] - 0s 11ms/step - loss: 0.2971 - accuracy: 0.8855 - val_loss: 0.2864 - val_accuracy: 0.8838\n",
      "Epoch 15/100\n",
      "36/36 [==============================] - 0s 11ms/step - loss: 0.2930 - accuracy: 0.8873 - val_loss: 0.2781 - val_accuracy: 0.8880\n",
      "Epoch 16/100\n",
      "36/36 [==============================] - 0s 11ms/step - loss: 0.3084 - accuracy: 0.8829 - val_loss: 0.3076 - val_accuracy: 0.8714\n",
      "Epoch 17/100\n",
      "36/36 [==============================] - 0s 10ms/step - loss: 0.3009 - accuracy: 0.8829 - val_loss: 0.2893 - val_accuracy: 0.8838\n",
      "Epoch 18/100\n",
      "36/36 [==============================] - 0s 10ms/step - loss: 0.2924 - accuracy: 0.8846 - val_loss: 0.2861 - val_accuracy: 0.8880\n",
      "Epoch 19/100\n",
      "36/36 [==============================] - 0s 11ms/step - loss: 0.2955 - accuracy: 0.8909 - val_loss: 0.2804 - val_accuracy: 0.8880\n",
      "Epoch 20/100\n",
      "36/36 [==============================] - 0s 11ms/step - loss: 0.2955 - accuracy: 0.8838 - val_loss: 0.2890 - val_accuracy: 0.8838\n",
      "Epoch 21/100\n",
      "36/36 [==============================] - 0s 11ms/step - loss: 0.2947 - accuracy: 0.8838 - val_loss: 0.2818 - val_accuracy: 0.8880\n",
      "Epoch 22/100\n",
      "36/36 [==============================] - 0s 11ms/step - loss: 0.2962 - accuracy: 0.8873 - val_loss: 0.2806 - val_accuracy: 0.8880\n",
      "Epoch 23/100\n",
      "36/36 [==============================] - 0s 10ms/step - loss: 0.2838 - accuracy: 0.8917 - val_loss: 0.2745 - val_accuracy: 0.8880\n",
      "Epoch 24/100\n",
      "36/36 [==============================] - 0s 11ms/step - loss: 0.2835 - accuracy: 0.8926 - val_loss: 0.2746 - val_accuracy: 0.8880\n",
      "Epoch 25/100\n",
      "36/36 [==============================] - 0s 11ms/step - loss: 0.2755 - accuracy: 0.8944 - val_loss: 0.2783 - val_accuracy: 0.8880\n",
      "Epoch 26/100\n",
      "36/36 [==============================] - 0s 11ms/step - loss: 0.2780 - accuracy: 0.8944 - val_loss: 0.2741 - val_accuracy: 0.8880\n",
      "Epoch 27/100\n",
      "36/36 [==============================] - 0s 11ms/step - loss: 0.2836 - accuracy: 0.8900 - val_loss: 0.2758 - val_accuracy: 0.8880\n",
      "Epoch 28/100\n",
      "36/36 [==============================] - 0s 11ms/step - loss: 0.2824 - accuracy: 0.8873 - val_loss: 0.2725 - val_accuracy: 0.8880\n",
      "Epoch 29/100\n",
      "36/36 [==============================] - 0s 11ms/step - loss: 0.2763 - accuracy: 0.8935 - val_loss: 0.2672 - val_accuracy: 0.8880\n",
      "Epoch 30/100\n",
      "36/36 [==============================] - 0s 10ms/step - loss: 0.2719 - accuracy: 0.8935 - val_loss: 0.2704 - val_accuracy: 0.8880\n",
      "Epoch 31/100\n",
      "36/36 [==============================] - 0s 10ms/step - loss: 0.2686 - accuracy: 0.8944 - val_loss: 0.2857 - val_accuracy: 0.8880\n",
      "Epoch 32/100\n",
      "36/36 [==============================] - 0s 11ms/step - loss: 0.2735 - accuracy: 0.8935 - val_loss: 0.2651 - val_accuracy: 0.8797\n",
      "Epoch 33/100\n",
      "36/36 [==============================] - 0s 11ms/step - loss: 0.2652 - accuracy: 0.8935 - val_loss: 0.2598 - val_accuracy: 0.8880\n",
      "Epoch 34/100\n",
      "36/36 [==============================] - 0s 11ms/step - loss: 0.2743 - accuracy: 0.8917 - val_loss: 0.2633 - val_accuracy: 0.8880\n",
      "Epoch 35/100\n",
      "36/36 [==============================] - 0s 11ms/step - loss: 0.2834 - accuracy: 0.8846 - val_loss: 0.2779 - val_accuracy: 0.8838\n",
      "Epoch 36/100\n",
      "36/36 [==============================] - 0s 11ms/step - loss: 0.2779 - accuracy: 0.8846 - val_loss: 0.2649 - val_accuracy: 0.8838\n",
      "Epoch 37/100\n",
      "36/36 [==============================] - 0s 11ms/step - loss: 0.2767 - accuracy: 0.8838 - val_loss: 0.2612 - val_accuracy: 0.8755\n",
      "Epoch 38/100\n",
      "36/36 [==============================] - 0s 10ms/step - loss: 0.2703 - accuracy: 0.8846 - val_loss: 0.2708 - val_accuracy: 0.8755\n",
      "Epoch 39/100\n",
      "36/36 [==============================] - 0s 11ms/step - loss: 0.2892 - accuracy: 0.8855 - val_loss: 0.2629 - val_accuracy: 0.8838\n",
      "Epoch 40/100\n",
      "36/36 [==============================] - 0s 11ms/step - loss: 0.2721 - accuracy: 0.8811 - val_loss: 0.2608 - val_accuracy: 0.8838\n",
      "Epoch 41/100\n",
      "36/36 [==============================] - 0s 11ms/step - loss: 0.2649 - accuracy: 0.8820 - val_loss: 0.2562 - val_accuracy: 0.8838\n",
      "Epoch 42/100\n",
      "36/36 [==============================] - 0s 11ms/step - loss: 0.2637 - accuracy: 0.8838 - val_loss: 0.2591 - val_accuracy: 0.8838\n",
      "Epoch 43/100\n",
      "36/36 [==============================] - 0s 10ms/step - loss: 0.2660 - accuracy: 0.8855 - val_loss: 0.2545 - val_accuracy: 0.8880\n",
      "Epoch 44/100\n",
      "36/36 [==============================] - 0s 10ms/step - loss: 0.2536 - accuracy: 0.8944 - val_loss: 0.2538 - val_accuracy: 0.8880\n",
      "Epoch 45/100\n",
      "36/36 [==============================] - 0s 12ms/step - loss: 0.2577 - accuracy: 0.8926 - val_loss: 0.2609 - val_accuracy: 0.8880\n",
      "Epoch 46/100\n",
      "36/36 [==============================] - 0s 11ms/step - loss: 0.2558 - accuracy: 0.8873 - val_loss: 0.2630 - val_accuracy: 0.8755\n",
      "Epoch 47/100\n",
      "36/36 [==============================] - 0s 12ms/step - loss: 0.2697 - accuracy: 0.8829 - val_loss: 0.2665 - val_accuracy: 0.8838\n",
      "Epoch 48/100\n",
      "36/36 [==============================] - 0s 12ms/step - loss: 0.2728 - accuracy: 0.8829 - val_loss: 0.2518 - val_accuracy: 0.8797\n",
      "Epoch 49/100\n",
      "36/36 [==============================] - 0s 12ms/step - loss: 0.2504 - accuracy: 0.8900 - val_loss: 0.2559 - val_accuracy: 0.8880\n",
      "Epoch 50/100\n",
      "36/36 [==============================] - 0s 11ms/step - loss: 0.2452 - accuracy: 0.8926 - val_loss: 0.2482 - val_accuracy: 0.8797\n",
      "Epoch 51/100\n",
      "36/36 [==============================] - 0s 11ms/step - loss: 0.2500 - accuracy: 0.8917 - val_loss: 0.2537 - val_accuracy: 0.8797\n",
      "Epoch 52/100\n",
      "36/36 [==============================] - 0s 12ms/step - loss: 0.2487 - accuracy: 0.8944 - val_loss: 0.2464 - val_accuracy: 0.8880\n",
      "Epoch 53/100\n",
      "36/36 [==============================] - 0s 12ms/step - loss: 0.2620 - accuracy: 0.8900 - val_loss: 0.2641 - val_accuracy: 0.8880\n",
      "Epoch 54/100\n",
      "36/36 [==============================] - 0s 11ms/step - loss: 0.2930 - accuracy: 0.8784 - val_loss: 0.2692 - val_accuracy: 0.8755\n",
      "Epoch 55/100\n",
      "36/36 [==============================] - 0s 11ms/step - loss: 0.2693 - accuracy: 0.8864 - val_loss: 0.2705 - val_accuracy: 0.8755\n",
      "Epoch 56/100\n"
     ]
    },
    {
     "name": "stdout",
     "output_type": "stream",
     "text": [
      "36/36 [==============================] - 0s 12ms/step - loss: 0.2688 - accuracy: 0.8820 - val_loss: 0.2745 - val_accuracy: 0.8755\n",
      "Epoch 57/100\n",
      "36/36 [==============================] - 0s 12ms/step - loss: 0.2669 - accuracy: 0.8749 - val_loss: 0.2594 - val_accuracy: 0.8755\n",
      "Epoch 58/100\n",
      "36/36 [==============================] - 0s 12ms/step - loss: 0.2612 - accuracy: 0.8793 - val_loss: 0.2595 - val_accuracy: 0.8755\n",
      "Epoch 59/100\n",
      "36/36 [==============================] - 0s 11ms/step - loss: 0.2662 - accuracy: 0.8829 - val_loss: 0.2606 - val_accuracy: 0.8755\n",
      "Epoch 60/100\n",
      "36/36 [==============================] - 0s 11ms/step - loss: 0.2627 - accuracy: 0.8838 - val_loss: 0.2529 - val_accuracy: 0.8755\n",
      "Epoch 61/100\n",
      "36/36 [==============================] - 0s 12ms/step - loss: 0.2665 - accuracy: 0.8793 - val_loss: 0.2622 - val_accuracy: 0.8755\n",
      "Epoch 62/100\n",
      "36/36 [==============================] - 0s 11ms/step - loss: 0.2655 - accuracy: 0.8802 - val_loss: 0.2664 - val_accuracy: 0.8755\n",
      "Epoch 63/100\n",
      "36/36 [==============================] - 0s 11ms/step - loss: 0.2663 - accuracy: 0.8820 - val_loss: 0.2583 - val_accuracy: 0.8838\n",
      "Epoch 64/100\n",
      "36/36 [==============================] - 0s 11ms/step - loss: 0.2637 - accuracy: 0.8855 - val_loss: 0.2600 - val_accuracy: 0.8755\n",
      "Epoch 65/100\n",
      "36/36 [==============================] - 0s 11ms/step - loss: 0.2649 - accuracy: 0.8838 - val_loss: 0.2576 - val_accuracy: 0.8755\n",
      "Epoch 66/100\n",
      "36/36 [==============================] - 0s 12ms/step - loss: 0.2633 - accuracy: 0.8838 - val_loss: 0.2592 - val_accuracy: 0.8755\n",
      "Epoch 67/100\n",
      "36/36 [==============================] - 0s 11ms/step - loss: 0.2688 - accuracy: 0.8846 - val_loss: 0.2647 - val_accuracy: 0.8755\n",
      "Epoch 68/100\n",
      "36/36 [==============================] - 0s 11ms/step - loss: 0.2737 - accuracy: 0.8820 - val_loss: 0.2576 - val_accuracy: 0.8755\n",
      "Epoch 69/100\n",
      "36/36 [==============================] - 0s 11ms/step - loss: 0.2898 - accuracy: 0.8793 - val_loss: 0.2896 - val_accuracy: 0.8631\n",
      "Epoch 70/100\n",
      "36/36 [==============================] - 0s 12ms/step - loss: 0.2852 - accuracy: 0.8731 - val_loss: 0.2901 - val_accuracy: 0.8714\n",
      "Epoch 71/100\n",
      "36/36 [==============================] - 0s 11ms/step - loss: 0.2807 - accuracy: 0.8749 - val_loss: 0.2745 - val_accuracy: 0.8838\n",
      "Epoch 72/100\n",
      "36/36 [==============================] - 0s 11ms/step - loss: 0.2866 - accuracy: 0.8767 - val_loss: 0.3207 - val_accuracy: 0.8714\n",
      "Epoch 73/100\n",
      "36/36 [==============================] - 0s 11ms/step - loss: 0.3096 - accuracy: 0.8749 - val_loss: 0.3868 - val_accuracy: 0.8714\n",
      "Epoch 74/100\n",
      "36/36 [==============================] - 0s 11ms/step - loss: 0.3322 - accuracy: 0.8749 - val_loss: 0.3042 - val_accuracy: 0.8714\n",
      "Epoch 75/100\n",
      "36/36 [==============================] - 0s 12ms/step - loss: 0.3097 - accuracy: 0.8749 - val_loss: 0.2930 - val_accuracy: 0.8714\n",
      "Epoch 76/100\n",
      "36/36 [==============================] - 0s 11ms/step - loss: 0.3001 - accuracy: 0.8758 - val_loss: 0.2871 - val_accuracy: 0.8838\n",
      "Epoch 77/100\n",
      "36/36 [==============================] - 0s 12ms/step - loss: 0.2943 - accuracy: 0.8846 - val_loss: 0.2851 - val_accuracy: 0.8838\n",
      "Epoch 78/100\n",
      "36/36 [==============================] - 0s 12ms/step - loss: 0.2940 - accuracy: 0.8846 - val_loss: 0.2900 - val_accuracy: 0.8838\n",
      "Epoch 79/100\n",
      "36/36 [==============================] - 0s 12ms/step - loss: 0.2948 - accuracy: 0.8846 - val_loss: 0.2810 - val_accuracy: 0.8838\n",
      "Epoch 80/100\n",
      "36/36 [==============================] - 0s 11ms/step - loss: 0.2844 - accuracy: 0.8846 - val_loss: 0.2762 - val_accuracy: 0.8838\n",
      "Epoch 81/100\n",
      "36/36 [==============================] - 0s 11ms/step - loss: 0.2889 - accuracy: 0.8829 - val_loss: 0.2625 - val_accuracy: 0.8838\n",
      "Epoch 82/100\n",
      "36/36 [==============================] - 0s 12ms/step - loss: 0.2873 - accuracy: 0.8855 - val_loss: 0.2863 - val_accuracy: 0.8838\n",
      "Epoch 83/100\n",
      "36/36 [==============================] - 0s 12ms/step - loss: 0.2864 - accuracy: 0.8864 - val_loss: 0.2640 - val_accuracy: 0.8963\n",
      "Epoch 84/100\n",
      "36/36 [==============================] - 0s 11ms/step - loss: 0.2822 - accuracy: 0.8864 - val_loss: 0.2913 - val_accuracy: 0.8838\n",
      "Epoch 85/100\n",
      "36/36 [==============================] - 0s 12ms/step - loss: 0.2845 - accuracy: 0.8891 - val_loss: 0.2766 - val_accuracy: 0.8963\n",
      "Epoch 86/100\n",
      "36/36 [==============================] - 0s 11ms/step - loss: 0.2761 - accuracy: 0.8917 - val_loss: 0.2586 - val_accuracy: 0.8963\n",
      "Epoch 87/100\n",
      "36/36 [==============================] - 0s 11ms/step - loss: 0.2760 - accuracy: 0.8917 - val_loss: 0.2547 - val_accuracy: 0.8963\n",
      "Epoch 88/100\n",
      "36/36 [==============================] - 0s 11ms/step - loss: 0.2743 - accuracy: 0.8917 - val_loss: 0.2570 - val_accuracy: 0.8963\n",
      "Epoch 89/100\n",
      "36/36 [==============================] - 0s 11ms/step - loss: 0.2792 - accuracy: 0.8900 - val_loss: 0.2623 - val_accuracy: 0.8963\n",
      "Epoch 90/100\n",
      "36/36 [==============================] - 0s 11ms/step - loss: 0.2964 - accuracy: 0.8802 - val_loss: 0.2960 - val_accuracy: 0.8838\n",
      "Epoch 91/100\n",
      "36/36 [==============================] - 0s 11ms/step - loss: 0.2906 - accuracy: 0.8838 - val_loss: 0.2729 - val_accuracy: 0.8838\n",
      "Epoch 92/100\n",
      "36/36 [==============================] - 0s 12ms/step - loss: 0.2866 - accuracy: 0.8846 - val_loss: 0.2679 - val_accuracy: 0.8838\n",
      "Epoch 93/100\n",
      "36/36 [==============================] - 0s 11ms/step - loss: 0.2863 - accuracy: 0.8846 - val_loss: 0.2677 - val_accuracy: 0.8838\n",
      "Epoch 94/100\n",
      "36/36 [==============================] - 0s 11ms/step - loss: 0.2854 - accuracy: 0.8846 - val_loss: 0.2670 - val_accuracy: 0.8838\n",
      "Epoch 95/100\n",
      "36/36 [==============================] - 0s 11ms/step - loss: 0.2832 - accuracy: 0.8846 - val_loss: 0.2695 - val_accuracy: 0.8838\n",
      "Epoch 96/100\n",
      "36/36 [==============================] - 0s 11ms/step - loss: 0.2838 - accuracy: 0.8846 - val_loss: 0.2641 - val_accuracy: 0.8838\n",
      "Epoch 97/100\n",
      "36/36 [==============================] - 0s 12ms/step - loss: 0.2893 - accuracy: 0.8846 - val_loss: 0.2689 - val_accuracy: 0.8838\n",
      "Epoch 98/100\n",
      "36/36 [==============================] - 0s 11ms/step - loss: 0.2801 - accuracy: 0.8846 - val_loss: 0.2650 - val_accuracy: 0.8838\n",
      "Epoch 99/100\n",
      "36/36 [==============================] - 0s 11ms/step - loss: 0.2786 - accuracy: 0.8846 - val_loss: 0.2669 - val_accuracy: 0.8838\n",
      "Epoch 100/100\n",
      "36/36 [==============================] - 0s 11ms/step - loss: 0.2809 - accuracy: 0.8829 - val_loss: 0.2699 - val_accuracy: 0.8880\n"
     ]
    }
   ],
   "source": [
    "model2 = Sequential([\n",
    "    Dense(1000, activation='relu', input_shape=(5,)),\n",
    "    Dense(1000, activation='relu'),\n",
    "    Dense(1000, activation='relu'),\n",
    "    Dense(1000, activation='relu'),\n",
    "    Dense(1, activation='sigmoid'),\n",
    "])\n",
    "\n",
    "model2.compile(optimizer='adam',\n",
    "              loss='binary_crossentropy',\n",
    "              metrics=['accuracy'])\n",
    "              \n",
    "h2 = model2.fit(X_train, Y_train,\n",
    "          batch_size=32, epochs=100,\n",
    "          validation_data=(X_val, Y_val),callbacks=[tensorboardOf])"
   ]
  },
  {
   "cell_type": "code",
   "execution_count": 24,
   "metadata": {
    "colab": {
     "base_uri": "https://localhost:8080/",
     "height": 295
    },
    "id": "zCJIG1gIbaa9",
    "outputId": "91c896de-8874-4dc4-e936-789c1d661187"
   },
   "outputs": [
    {
     "data": {
      "image/png": "[encoded data removed]",
      "text/plain": [
       "<Figure size 432x288 with 1 Axes>"
      ]
     },
     "metadata": {
      "needs_background": "light"
     },
     "output_type": "display_data"
    }
   ],
   "source": [
    "plt.plot(h2.history['accuracy'])\n",
    "plt.plot(h2.history['val_accuracy'])\n",
    "plt.title('Model accuracy')\n",
    "plt.ylabel('Accuracy')\n",
    "plt.xlabel('Epoch')\n",
    "plt.legend(['Train', 'Val'], loc='lower right')\n",
    "plt.show()"
   ]
  },
  {
   "cell_type": "code",
   "execution_count": 25,
   "metadata": {
    "colab": {
     "base_uri": "https://localhost:8080/"
    },
    "id": "Dm0Xegm1sVOH",
    "outputId": "e3124f70-1dcb-4629-e2bd-69571274a39e"
   },
   "outputs": [
    {
     "name": "stdout",
     "output_type": "stream",
     "text": [
      "8/8 [==============================] - 0s 2ms/step - loss: 0.3184 - accuracy: 0.8802\n"
     ]
    },
    {
     "data": {
      "text/plain": [
       "0.8801652789115906"
      ]
     },
     "execution_count": 25,
     "metadata": {},
     "output_type": "execute_result"
    }
   ],
   "source": [
    "model2.evaluate(X_test, Y_test)[1]"
   ]
  },
  {
   "cell_type": "markdown",
   "metadata": {
    "id": "wZUwAIMcre2u"
   },
   "source": [
    "### CNN  with Ridge Regression Regularization"
   ]
  },
  {
   "cell_type": "code",
   "execution_count": 26,
   "metadata": {
    "id": "fwoCyhMsbkF5"
   },
   "outputs": [],
   "source": [
    "model3 = Sequential([\n",
    "    Dense(1000, activation='relu', kernel_regularizer=regularizers.l2(0.01), input_shape=(5,)),\n",
    "    Dropout(0.3),\n",
    "    Dense(1000, activation='relu', kernel_regularizer=regularizers.l2(0.01)),\n",
    "    Dropout(0.3),\n",
    "    Dense(1000, activation='relu', kernel_regularizer=regularizers.l2(0.01)),\n",
    "    Dropout(0.3),\n",
    "    Dense(1000, activation='relu', kernel_regularizer=regularizers.l2(0.01)),\n",
    "    Dropout(0.3),\n",
    "    Dense(1, activation='sigmoid', kernel_regularizer=regularizers.l2(0.01)),\n",
    "])"
   ]
  },
  {
   "cell_type": "code",
   "execution_count": 27,
   "metadata": {
    "colab": {
     "base_uri": "https://localhost:8080/"
    },
    "id": "9JST_htXbpoc",
    "outputId": "908fc55c-594a-4de7-c2a2-9e40f0b3466a"
   },
   "outputs": [
    {
     "name": "stdout",
     "output_type": "stream",
     "text": [
      "Epoch 1/100\n",
      " 2/36 [>.............................] - ETA: 7s - loss: 30.0186 - accuracy: 0.6562WARNING:tensorflow:Callbacks method `on_train_batch_end` is slow compared to the batch time (batch time: 0.0157s vs `on_train_batch_end` time: 0.4139s). Check your callbacks.\n",
      "36/36 [==============================] - 1s 30ms/step - loss: 13.0548 - accuracy: 0.8642 - val_loss: 2.7987 - val_accuracy: 0.8714\n",
      "Epoch 2/100\n",
      "36/36 [==============================] - 1s 17ms/step - loss: 1.1420 - accuracy: 0.8713 - val_loss: 0.4871 - val_accuracy: 0.8714\n",
      "Epoch 3/100\n",
      "36/36 [==============================] - 1s 17ms/step - loss: 0.4527 - accuracy: 0.8713 - val_loss: 0.4337 - val_accuracy: 0.8714\n",
      "Epoch 4/100\n",
      "36/36 [==============================] - 1s 17ms/step - loss: 0.4280 - accuracy: 0.8713 - val_loss: 0.4236 - val_accuracy: 0.8714\n",
      "Epoch 5/100\n",
      "36/36 [==============================] - 1s 17ms/step - loss: 0.4218 - accuracy: 0.8713 - val_loss: 0.4215 - val_accuracy: 0.8714\n",
      "Epoch 6/100\n",
      "36/36 [==============================] - 1s 16ms/step - loss: 0.4205 - accuracy: 0.8713 - val_loss: 0.4176 - val_accuracy: 0.8714\n",
      "Epoch 7/100\n",
      "36/36 [==============================] - 1s 17ms/step - loss: 0.4164 - accuracy: 0.8713 - val_loss: 0.4165 - val_accuracy: 0.8714\n",
      "Epoch 8/100\n",
      "36/36 [==============================] - 1s 17ms/step - loss: 0.4100 - accuracy: 0.8713 - val_loss: 0.4279 - val_accuracy: 0.8714\n",
      "Epoch 9/100\n",
      "36/36 [==============================] - 1s 17ms/step - loss: 0.4138 - accuracy: 0.8713 - val_loss: 0.4098 - val_accuracy: 0.8714\n",
      "Epoch 10/100\n",
      "36/36 [==============================] - 1s 16ms/step - loss: 0.4112 - accuracy: 0.8713 - val_loss: 0.4051 - val_accuracy: 0.8714\n",
      "Epoch 11/100\n",
      "36/36 [==============================] - 1s 17ms/step - loss: 0.4082 - accuracy: 0.8713 - val_loss: 0.4015 - val_accuracy: 0.8714\n",
      "Epoch 12/100\n",
      "36/36 [==============================] - 1s 17ms/step - loss: 0.4021 - accuracy: 0.8713 - val_loss: 0.3989 - val_accuracy: 0.8714\n",
      "Epoch 13/100\n",
      "36/36 [==============================] - 1s 17ms/step - loss: 0.4001 - accuracy: 0.8713 - val_loss: 0.4029 - val_accuracy: 0.8714\n",
      "Epoch 14/100\n",
      "36/36 [==============================] - 1s 17ms/step - loss: 0.3993 - accuracy: 0.8713 - val_loss: 0.3956 - val_accuracy: 0.8714\n",
      "Epoch 15/100\n",
      "36/36 [==============================] - 1s 17ms/step - loss: 0.3957 - accuracy: 0.8713 - val_loss: 0.3946 - val_accuracy: 0.8714\n",
      "Epoch 16/100\n",
      "36/36 [==============================] - 1s 17ms/step - loss: 0.3980 - accuracy: 0.8713 - val_loss: 0.3938 - val_accuracy: 0.8714\n",
      "Epoch 17/100\n",
      "36/36 [==============================] - 1s 17ms/step - loss: 0.3954 - accuracy: 0.8713 - val_loss: 0.3933 - val_accuracy: 0.8714\n",
      "Epoch 18/100\n",
      "36/36 [==============================] - 1s 17ms/step - loss: 0.3939 - accuracy: 0.8713 - val_loss: 0.3927 - val_accuracy: 0.8714\n",
      "Epoch 19/100\n",
      "36/36 [==============================] - 1s 17ms/step - loss: 0.3962 - accuracy: 0.8713 - val_loss: 0.3968 - val_accuracy: 0.8714\n",
      "Epoch 20/100\n",
      "36/36 [==============================] - 1s 18ms/step - loss: 0.3932 - accuracy: 0.8713 - val_loss: 0.3916 - val_accuracy: 0.8714\n",
      "Epoch 21/100\n",
      "36/36 [==============================] - 1s 17ms/step - loss: 0.3934 - accuracy: 0.8713 - val_loss: 0.3920 - val_accuracy: 0.8714\n",
      "Epoch 22/100\n",
      "36/36 [==============================] - 1s 17ms/step - loss: 0.3911 - accuracy: 0.8713 - val_loss: 0.3912 - val_accuracy: 0.8714\n",
      "Epoch 23/100\n",
      "36/36 [==============================] - 1s 17ms/step - loss: 0.3935 - accuracy: 0.8713 - val_loss: 0.3908 - val_accuracy: 0.8714\n",
      "Epoch 24/100\n",
      "36/36 [==============================] - 1s 17ms/step - loss: 0.3929 - accuracy: 0.8713 - val_loss: 0.3917 - val_accuracy: 0.8714\n",
      "Epoch 25/100\n",
      "36/36 [==============================] - 1s 17ms/step - loss: 0.3930 - accuracy: 0.8713 - val_loss: 0.3920 - val_accuracy: 0.8714\n",
      "Epoch 26/100\n",
      "36/36 [==============================] - 1s 17ms/step - loss: 0.3924 - accuracy: 0.8713 - val_loss: 0.3899 - val_accuracy: 0.8714\n",
      "Epoch 27/100\n",
      "36/36 [==============================] - 1s 17ms/step - loss: 0.3922 - accuracy: 0.8713 - val_loss: 0.3898 - val_accuracy: 0.8714\n",
      "Epoch 28/100\n",
      "36/36 [==============================] - 1s 17ms/step - loss: 0.3898 - accuracy: 0.8713 - val_loss: 0.3903 - val_accuracy: 0.8714\n",
      "Epoch 29/100\n",
      "36/36 [==============================] - 1s 17ms/step - loss: 0.3908 - accuracy: 0.8713 - val_loss: 0.3895 - val_accuracy: 0.8714\n",
      "Epoch 30/100\n",
      "36/36 [==============================] - 1s 17ms/step - loss: 0.3895 - accuracy: 0.8713 - val_loss: 0.3902 - val_accuracy: 0.8714\n",
      "Epoch 31/100\n",
      "36/36 [==============================] - 1s 17ms/step - loss: 0.3923 - accuracy: 0.8713 - val_loss: 0.3902 - val_accuracy: 0.8714\n",
      "Epoch 32/100\n",
      "36/36 [==============================] - 1s 17ms/step - loss: 0.3910 - accuracy: 0.8713 - val_loss: 0.3898 - val_accuracy: 0.8714\n",
      "Epoch 33/100\n",
      "36/36 [==============================] - 1s 17ms/step - loss: 0.3902 - accuracy: 0.8713 - val_loss: 0.3898 - val_accuracy: 0.8714\n",
      "Epoch 34/100\n",
      "36/36 [==============================] - 1s 17ms/step - loss: 0.3913 - accuracy: 0.8713 - val_loss: 0.3918 - val_accuracy: 0.8714\n",
      "Epoch 35/100\n",
      "36/36 [==============================] - 1s 17ms/step - loss: 0.3902 - accuracy: 0.8713 - val_loss: 0.3889 - val_accuracy: 0.8714\n",
      "Epoch 36/100\n",
      "36/36 [==============================] - 1s 17ms/step - loss: 0.3891 - accuracy: 0.8713 - val_loss: 0.3886 - val_accuracy: 0.8714\n",
      "Epoch 37/100\n",
      "36/36 [==============================] - 1s 17ms/step - loss: 0.3910 - accuracy: 0.8713 - val_loss: 0.3884 - val_accuracy: 0.8714\n",
      "Epoch 38/100\n",
      "36/36 [==============================] - 1s 17ms/step - loss: 0.3895 - accuracy: 0.8713 - val_loss: 0.3882 - val_accuracy: 0.8714\n",
      "Epoch 39/100\n",
      "36/36 [==============================] - 1s 17ms/step - loss: 0.3893 - accuracy: 0.8713 - val_loss: 0.3886 - val_accuracy: 0.8714\n",
      "Epoch 40/100\n",
      "36/36 [==============================] - 1s 17ms/step - loss: 0.3895 - accuracy: 0.8713 - val_loss: 0.3880 - val_accuracy: 0.8714\n",
      "Epoch 41/100\n",
      "36/36 [==============================] - 1s 17ms/step - loss: 0.3894 - accuracy: 0.8713 - val_loss: 0.3885 - val_accuracy: 0.8714\n",
      "Epoch 42/100\n",
      "36/36 [==============================] - 1s 17ms/step - loss: 0.3898 - accuracy: 0.8713 - val_loss: 0.3882 - val_accuracy: 0.8714\n",
      "Epoch 43/100\n",
      "36/36 [==============================] - 1s 17ms/step - loss: 0.3902 - accuracy: 0.8713 - val_loss: 0.3898 - val_accuracy: 0.8714\n",
      "Epoch 44/100\n",
      "36/36 [==============================] - 1s 17ms/step - loss: 0.3886 - accuracy: 0.8713 - val_loss: 0.3881 - val_accuracy: 0.8714\n",
      "Epoch 45/100\n",
      "36/36 [==============================] - 1s 17ms/step - loss: 0.3883 - accuracy: 0.8713 - val_loss: 0.3880 - val_accuracy: 0.8714\n",
      "Epoch 46/100\n",
      "36/36 [==============================] - 1s 17ms/step - loss: 0.3904 - accuracy: 0.8713 - val_loss: 0.3879 - val_accuracy: 0.8714\n",
      "Epoch 47/100\n",
      "36/36 [==============================] - 1s 17ms/step - loss: 0.3892 - accuracy: 0.8713 - val_loss: 0.3883 - val_accuracy: 0.8714\n",
      "Epoch 48/100\n",
      "36/36 [==============================] - 1s 17ms/step - loss: 0.3884 - accuracy: 0.8713 - val_loss: 0.3875 - val_accuracy: 0.8714\n",
      "Epoch 49/100\n",
      "36/36 [==============================] - 1s 17ms/step - loss: 0.3889 - accuracy: 0.8713 - val_loss: 0.3882 - val_accuracy: 0.8714\n",
      "Epoch 50/100\n",
      "36/36 [==============================] - 1s 17ms/step - loss: 0.3890 - accuracy: 0.8713 - val_loss: 0.3893 - val_accuracy: 0.8714\n",
      "Epoch 51/100\n",
      "36/36 [==============================] - 1s 17ms/step - loss: 0.3889 - accuracy: 0.8713 - val_loss: 0.3874 - val_accuracy: 0.8714\n",
      "Epoch 52/100\n",
      "36/36 [==============================] - 1s 17ms/step - loss: 0.3901 - accuracy: 0.8713 - val_loss: 0.3873 - val_accuracy: 0.8714\n",
      "Epoch 53/100\n",
      "36/36 [==============================] - 1s 16ms/step - loss: 0.3888 - accuracy: 0.8713 - val_loss: 0.3876 - val_accuracy: 0.8714\n",
      "Epoch 54/100\n",
      "36/36 [==============================] - 1s 17ms/step - loss: 0.3890 - accuracy: 0.8713 - val_loss: 0.3874 - val_accuracy: 0.8714\n",
      "Epoch 55/100\n",
      "36/36 [==============================] - 1s 17ms/step - loss: 0.3879 - accuracy: 0.8713 - val_loss: 0.3877 - val_accuracy: 0.8714\n",
      "Epoch 56/100\n"
     ]
    },
    {
     "name": "stdout",
     "output_type": "stream",
     "text": [
      "36/36 [==============================] - 1s 17ms/step - loss: 0.3888 - accuracy: 0.8713 - val_loss: 0.3871 - val_accuracy: 0.8714\n",
      "Epoch 57/100\n",
      "36/36 [==============================] - 1s 16ms/step - loss: 0.3894 - accuracy: 0.8713 - val_loss: 0.3870 - val_accuracy: 0.8714\n",
      "Epoch 58/100\n",
      "36/36 [==============================] - 1s 17ms/step - loss: 0.3870 - accuracy: 0.8713 - val_loss: 0.3872 - val_accuracy: 0.8714\n",
      "Epoch 59/100\n",
      "36/36 [==============================] - 1s 17ms/step - loss: 0.3890 - accuracy: 0.8713 - val_loss: 0.3880 - val_accuracy: 0.8714\n",
      "Epoch 60/100\n",
      "36/36 [==============================] - 1s 17ms/step - loss: 0.3900 - accuracy: 0.8713 - val_loss: 0.3874 - val_accuracy: 0.8714\n",
      "Epoch 61/100\n",
      "36/36 [==============================] - 1s 17ms/step - loss: 0.3894 - accuracy: 0.8713 - val_loss: 0.3869 - val_accuracy: 0.8714\n",
      "Epoch 62/100\n",
      "36/36 [==============================] - 1s 17ms/step - loss: 0.3863 - accuracy: 0.8713 - val_loss: 0.3869 - val_accuracy: 0.8714\n",
      "Epoch 63/100\n",
      "36/36 [==============================] - 1s 17ms/step - loss: 0.3877 - accuracy: 0.8713 - val_loss: 0.3869 - val_accuracy: 0.8714\n",
      "Epoch 64/100\n",
      "36/36 [==============================] - 1s 17ms/step - loss: 0.3898 - accuracy: 0.8713 - val_loss: 0.3869 - val_accuracy: 0.8714\n",
      "Epoch 65/100\n",
      "36/36 [==============================] - 1s 18ms/step - loss: 0.3860 - accuracy: 0.8713 - val_loss: 0.3870 - val_accuracy: 0.8714\n",
      "Epoch 66/100\n",
      "36/36 [==============================] - 1s 18ms/step - loss: 0.3876 - accuracy: 0.8713 - val_loss: 0.3867 - val_accuracy: 0.8714\n",
      "Epoch 67/100\n",
      "36/36 [==============================] - 1s 18ms/step - loss: 0.3875 - accuracy: 0.8713 - val_loss: 0.3870 - val_accuracy: 0.8714\n",
      "Epoch 68/100\n",
      "36/36 [==============================] - 1s 17ms/step - loss: 0.3890 - accuracy: 0.8713 - val_loss: 0.3877 - val_accuracy: 0.8714\n",
      "Epoch 69/100\n",
      "36/36 [==============================] - 1s 17ms/step - loss: 0.3902 - accuracy: 0.8713 - val_loss: 0.3872 - val_accuracy: 0.8714\n",
      "Epoch 70/100\n",
      "36/36 [==============================] - 1s 17ms/step - loss: 0.3875 - accuracy: 0.8713 - val_loss: 0.3869 - val_accuracy: 0.8714\n",
      "Epoch 71/100\n",
      "36/36 [==============================] - 1s 17ms/step - loss: 0.3876 - accuracy: 0.8713 - val_loss: 0.3875 - val_accuracy: 0.8714\n",
      "Epoch 72/100\n",
      "36/36 [==============================] - 1s 17ms/step - loss: 0.3890 - accuracy: 0.8713 - val_loss: 0.3880 - val_accuracy: 0.8714\n",
      "Epoch 73/100\n",
      "36/36 [==============================] - 1s 18ms/step - loss: 0.3888 - accuracy: 0.8713 - val_loss: 0.3866 - val_accuracy: 0.8714\n",
      "Epoch 74/100\n",
      "36/36 [==============================] - 1s 18ms/step - loss: 0.3864 - accuracy: 0.8713 - val_loss: 0.3872 - val_accuracy: 0.8714\n",
      "Epoch 75/100\n",
      "36/36 [==============================] - 1s 17ms/step - loss: 0.3874 - accuracy: 0.8713 - val_loss: 0.3865 - val_accuracy: 0.8714\n",
      "Epoch 76/100\n",
      "36/36 [==============================] - 1s 17ms/step - loss: 0.3877 - accuracy: 0.8713 - val_loss: 0.3865 - val_accuracy: 0.8714\n",
      "Epoch 77/100\n",
      "36/36 [==============================] - 1s 17ms/step - loss: 0.3870 - accuracy: 0.8713 - val_loss: 0.3864 - val_accuracy: 0.8714\n",
      "Epoch 78/100\n",
      "36/36 [==============================] - 1s 17ms/step - loss: 0.3858 - accuracy: 0.8713 - val_loss: 0.3873 - val_accuracy: 0.8714\n",
      "Epoch 79/100\n",
      "36/36 [==============================] - 1s 18ms/step - loss: 0.3869 - accuracy: 0.8713 - val_loss: 0.3865 - val_accuracy: 0.8714\n",
      "Epoch 80/100\n",
      "36/36 [==============================] - 1s 18ms/step - loss: 0.3866 - accuracy: 0.8713 - val_loss: 0.3864 - val_accuracy: 0.8714\n",
      "Epoch 81/100\n",
      "36/36 [==============================] - 1s 17ms/step - loss: 0.3886 - accuracy: 0.8713 - val_loss: 0.3866 - val_accuracy: 0.8714\n",
      "Epoch 82/100\n",
      "36/36 [==============================] - 1s 18ms/step - loss: 0.3875 - accuracy: 0.8713 - val_loss: 0.3863 - val_accuracy: 0.8714\n",
      "Epoch 83/100\n",
      "36/36 [==============================] - 1s 17ms/step - loss: 0.3878 - accuracy: 0.8713 - val_loss: 0.3864 - val_accuracy: 0.8714\n",
      "Epoch 84/100\n",
      "36/36 [==============================] - 1s 17ms/step - loss: 0.3894 - accuracy: 0.8713 - val_loss: 0.3882 - val_accuracy: 0.8714\n",
      "Epoch 85/100\n",
      "36/36 [==============================] - 1s 17ms/step - loss: 0.3876 - accuracy: 0.8713 - val_loss: 0.3891 - val_accuracy: 0.8714\n",
      "Epoch 86/100\n",
      "36/36 [==============================] - 1s 17ms/step - loss: 0.3883 - accuracy: 0.8713 - val_loss: 0.3863 - val_accuracy: 0.8714\n",
      "Epoch 87/100\n",
      "36/36 [==============================] - 1s 17ms/step - loss: 0.3885 - accuracy: 0.8713 - val_loss: 0.3865 - val_accuracy: 0.8714\n",
      "Epoch 88/100\n",
      "36/36 [==============================] - 1s 17ms/step - loss: 0.3888 - accuracy: 0.8713 - val_loss: 0.3873 - val_accuracy: 0.8714\n",
      "Epoch 89/100\n",
      "36/36 [==============================] - 1s 17ms/step - loss: 0.3869 - accuracy: 0.8713 - val_loss: 0.3872 - val_accuracy: 0.8714\n",
      "Epoch 90/100\n",
      "36/36 [==============================] - 1s 17ms/step - loss: 0.3883 - accuracy: 0.8713 - val_loss: 0.3870 - val_accuracy: 0.8714\n",
      "Epoch 91/100\n",
      "36/36 [==============================] - 1s 17ms/step - loss: 0.3893 - accuracy: 0.8713 - val_loss: 0.3866 - val_accuracy: 0.8714\n",
      "Epoch 92/100\n",
      "36/36 [==============================] - 1s 17ms/step - loss: 0.3886 - accuracy: 0.8713 - val_loss: 0.3865 - val_accuracy: 0.8714\n",
      "Epoch 93/100\n",
      "36/36 [==============================] - 1s 17ms/step - loss: 0.3890 - accuracy: 0.8713 - val_loss: 0.3869 - val_accuracy: 0.8714\n",
      "Epoch 94/100\n",
      "36/36 [==============================] - 1s 17ms/step - loss: 0.3879 - accuracy: 0.8713 - val_loss: 0.3868 - val_accuracy: 0.8714\n",
      "Epoch 95/100\n",
      "36/36 [==============================] - 1s 16ms/step - loss: 0.3902 - accuracy: 0.8713 - val_loss: 0.3896 - val_accuracy: 0.8714\n",
      "Epoch 96/100\n",
      "36/36 [==============================] - 1s 17ms/step - loss: 0.3865 - accuracy: 0.8713 - val_loss: 0.3863 - val_accuracy: 0.8714\n",
      "Epoch 97/100\n",
      "36/36 [==============================] - 1s 17ms/step - loss: 0.3887 - accuracy: 0.8713 - val_loss: 0.3876 - val_accuracy: 0.8714\n",
      "Epoch 98/100\n",
      "36/36 [==============================] - 1s 17ms/step - loss: 0.3893 - accuracy: 0.8713 - val_loss: 0.3863 - val_accuracy: 0.8714\n",
      "Epoch 99/100\n",
      "36/36 [==============================] - 1s 17ms/step - loss: 0.3891 - accuracy: 0.8713 - val_loss: 0.3867 - val_accuracy: 0.8714\n",
      "Epoch 100/100\n",
      "36/36 [==============================] - 1s 16ms/step - loss: 0.3875 - accuracy: 0.8713 - val_loss: 0.3862 - val_accuracy: 0.8714\n"
     ]
    }
   ],
   "source": [
    "model3.compile(optimizer='adam',\n",
    "              loss='binary_crossentropy',\n",
    "              metrics=['accuracy'])\n",
    "              \n",
    "h3 = model3.fit(X_train, Y_train,\n",
    "          batch_size=32, epochs=100,\n",
    "          validation_data=(X_val, Y_val),callbacks=[tensorboardRr])"
   ]
  },
  {
   "cell_type": "code",
   "execution_count": 28,
   "metadata": {
    "colab": {
     "base_uri": "https://localhost:8080/",
     "height": 295
    },
    "id": "bsn1wMr-cGgh",
    "outputId": "0598eb89-10af-476a-c391-060f069b26d0"
   },
   "outputs": [
    {
     "data": {
      "image/png": "[encoded data removed]",
      "text/plain": [
       "<Figure size 432x288 with 1 Axes>"
      ]
     },
     "metadata": {
      "needs_background": "light"
     },
     "output_type": "display_data"
    }
   ],
   "source": [
    "plt.plot(h3.history['accuracy'])\n",
    "plt.plot(h3.history['val_accuracy'])\n",
    "plt.title('Model accuracy')\n",
    "plt.ylabel('Accuracy')\n",
    "plt.xlabel('Epoch')\n",
    "plt.legend(['Train', 'Val'], loc='lower right')\n",
    "plt.show()"
   ]
  },
  {
   "cell_type": "code",
   "execution_count": 29,
   "metadata": {
    "colab": {
     "base_uri": "https://localhost:8080/"
    },
    "id": "jwDEOp4utHQr",
    "outputId": "c3dc3c13-0d2c-4967-ced0-1af2435be19a"
   },
   "outputs": [
    {
     "name": "stdout",
     "output_type": "stream",
     "text": [
      "8/8 [==============================] - 0s 4ms/step - loss: 0.4486 - accuracy: 0.8388\n"
     ]
    },
    {
     "data": {
      "text/plain": [
       "0.8388429880142212"
      ]
     },
     "execution_count": 29,
     "metadata": {},
     "output_type": "execute_result"
    }
   ],
   "source": [
    "model3.evaluate(X_test, Y_test)[1]"
   ]
  },
  {
   "cell_type": "markdown",
   "metadata": {
    "id": "qoomDzFoG-XW"
   },
   "source": [
    "# Conclusions"
   ]
  },
  {
   "cell_type": "markdown",
   "metadata": {
    "id": "KKJRptS6HEtD"
   },
   "source": [
    "The accuracy of the 3 different techniques are the following:\n",
    "\n",
    "*   85.12% for the CNN model\n",
    "*   89.67% for the CNN with Over-fitting and Regularization model\n",
    "*   85.12% for the CNN with Ridge Regression Regularization model\n",
    "\n",
    "Notice that the most accurate model was the Over-Fitting and Regularization model. Altough the first and third model obtained the same accuracy percentage, the main difference between them is that the technique used in the third model prevents over-fitting issues.\n"
   ]
  },
  {
   "cell_type": "markdown",
   "metadata": {
    "id": "bTWPwP0tGylr"
   },
   "source": [
    "#Summary"
   ]
  },
  {
   "cell_type": "markdown",
   "metadata": {
    "id": "E_iTJX8cJ0GT"
   },
   "source": [
    "In this research, we coded a prediction model following these steps:\n",
    "\n",
    "*   We prepared and processed the data\n",
    "*   Built and Trained a Neural Network\n",
    "*   Implemented functions to Visualize Loss and Accuracy\n",
    "*   Added two regularization techniques to the Neural Network\n",
    "*   Compared the accuracy of the models"
   ]
  },
  {
   "cell_type": "code",
   "execution_count": null,
   "metadata": {},
   "outputs": [],
   "source": []
  }
 ],
 "metadata": {
  "colab": {
   "collapsed_sections": [],
   "name": "Copia de TensorFlow-CNN-TDP.ipynb",
   "provenance": []
  },
  "kernelspec": {
   "display_name": "Python 3",
   "language": "python",
   "name": "python3"
  },
  "language_info": {
   "codemirror_mode": {
    "name": "ipython",
    "version": 3
   },
   "file_extension": ".py",
   "mimetype": "text/x-python",
   "name": "python",
   "nbconvert_exporter": "python",
   "pygments_lexer": "ipython3",
   "version": "3.8.5"
  }
 },
 "nbformat": 4,
 "nbformat_minor": 1
}
